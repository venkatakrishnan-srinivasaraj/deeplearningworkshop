{
 "cells": [
  {
   "cell_type": "code",
   "execution_count": 1,
   "metadata": {},
   "outputs": [
    {
     "name": "stderr",
     "output_type": "stream",
     "text": [
      "Using TensorFlow backend.\n"
     ]
    }
   ],
   "source": [
    "import keras"
   ]
  },
  {
   "cell_type": "code",
   "execution_count": 2,
   "metadata": {},
   "outputs": [
    {
     "data": {
      "text/plain": [
       "'2.2.2'"
      ]
     },
     "execution_count": 2,
     "metadata": {},
     "output_type": "execute_result"
    }
   ],
   "source": [
    "keras.__version__"
   ]
  },
  {
   "cell_type": "code",
   "execution_count": 3,
   "metadata": {},
   "outputs": [],
   "source": [
    "from keras.datasets import mnist"
   ]
  },
  {
   "cell_type": "code",
   "execution_count": 4,
   "metadata": {},
   "outputs": [
    {
     "name": "stdout",
     "output_type": "stream",
     "text": [
      "Downloading data from https://s3.amazonaws.com/img-datasets/mnist.npz\n",
      "11493376/11490434 [==============================] - 0s 0us/step\n"
     ]
    }
   ],
   "source": [
    "[train_images,train_labels],[test_images,test_labels] = mnist.load_data()"
   ]
  },
  {
   "cell_type": "code",
   "execution_count": 5,
   "metadata": {},
   "outputs": [
    {
     "data": {
      "text/plain": [
       "(60000, 28, 28)"
      ]
     },
     "execution_count": 5,
     "metadata": {},
     "output_type": "execute_result"
    }
   ],
   "source": [
    "train_images.shape"
   ]
  },
  {
   "cell_type": "code",
   "execution_count": 6,
   "metadata": {},
   "outputs": [
    {
     "data": {
      "text/plain": [
       "60000"
      ]
     },
     "execution_count": 6,
     "metadata": {},
     "output_type": "execute_result"
    }
   ],
   "source": [
    "len(train_labels)"
   ]
  },
  {
   "cell_type": "code",
   "execution_count": 7,
   "metadata": {},
   "outputs": [
    {
     "data": {
      "text/plain": [
       "array([5, 0, 4, ..., 5, 6, 8], dtype=uint8)"
      ]
     },
     "execution_count": 7,
     "metadata": {},
     "output_type": "execute_result"
    }
   ],
   "source": [
    "train_labels"
   ]
  },
  {
   "cell_type": "code",
   "execution_count": 8,
   "metadata": {},
   "outputs": [
    {
     "data": {
      "text/plain": [
       "(10000, 28, 28)"
      ]
     },
     "execution_count": 8,
     "metadata": {},
     "output_type": "execute_result"
    }
   ],
   "source": [
    "test_images.shape"
   ]
  },
  {
   "cell_type": "code",
   "execution_count": 9,
   "metadata": {},
   "outputs": [
    {
     "data": {
      "text/plain": [
       "10000"
      ]
     },
     "execution_count": 9,
     "metadata": {},
     "output_type": "execute_result"
    }
   ],
   "source": [
    "len(test_labels)"
   ]
  },
  {
   "cell_type": "code",
   "execution_count": 10,
   "metadata": {},
   "outputs": [],
   "source": [
    "from keras import models\n",
    "from keras import layers\n",
    "from keras.utils import to_categorical"
   ]
  },
  {
   "cell_type": "code",
   "execution_count": 11,
   "metadata": {},
   "outputs": [],
   "source": [
    "network = models.Sequential()\n",
    "network.add(layers.Dense(512, activation = 'relu', input_shape = (28*28,)))\n",
    "network.add(layers.Dense(10, activation = 'softmax'))"
   ]
  },
  {
   "cell_type": "code",
   "execution_count": 12,
   "metadata": {},
   "outputs": [],
   "source": [
    "network.compile(optimizer = 'adam',\n",
    "               loss = 'categorical_crossentropy',\n",
    "               metrics = ['accuracy'])"
   ]
  },
  {
   "cell_type": "code",
   "execution_count": 13,
   "metadata": {},
   "outputs": [],
   "source": [
    "train_images = train_images.reshape((60000, 28*28))\n",
    "train_images = train_images.astype('float32')/255\n",
    "test_images = test_images.reshape((10000, 28*28))\n",
    "test_images  = test_images.astype('float32')/255"
   ]
  },
  {
   "cell_type": "code",
   "execution_count": 14,
   "metadata": {},
   "outputs": [],
   "source": [
    "train_labels = to_categorical(train_labels)\n",
    "test_labels = to_categorical(test_labels)"
   ]
  },
  {
   "cell_type": "code",
   "execution_count": 15,
   "metadata": {},
   "outputs": [
    {
     "name": "stdout",
     "output_type": "stream",
     "text": [
      "Epoch 1/100\n",
      "60000/60000 [==============================] - 8s 134us/step - loss: 0.2744 - acc: 0.9221\n",
      "Epoch 2/100\n",
      "60000/60000 [==============================] - 2s 29us/step - loss: 0.1112 - acc: 0.9672\n",
      "Epoch 3/100\n",
      "60000/60000 [==============================] - 2s 29us/step - loss: 0.0711 - acc: 0.9793\n",
      "Epoch 4/100\n",
      "60000/60000 [==============================] - 2s 29us/step - loss: 0.0521 - acc: 0.9848\n",
      "Epoch 5/100\n",
      "60000/60000 [==============================] - 2s 30us/step - loss: 0.0381 - acc: 0.9885\n",
      "Epoch 6/100\n",
      "60000/60000 [==============================] - 2s 32us/step - loss: 0.0286 - acc: 0.9918\n",
      "Epoch 7/100\n",
      "60000/60000 [==============================] - 2s 29us/step - loss: 0.0214 - acc: 0.9944\n",
      "Epoch 8/100\n",
      "60000/60000 [==============================] - 2s 28us/step - loss: 0.0156 - acc: 0.9960\n",
      "Epoch 9/100\n",
      "60000/60000 [==============================] - 2s 29us/step - loss: 0.0122 - acc: 0.9971\n",
      "Epoch 10/100\n",
      "60000/60000 [==============================] - 2s 29us/step - loss: 0.0121 - acc: 0.9968\n",
      "Epoch 11/100\n",
      "60000/60000 [==============================] - 2s 29us/step - loss: 0.0074 - acc: 0.9983\n",
      "Epoch 12/100\n",
      "60000/60000 [==============================] - 2s 29us/step - loss: 0.0064 - acc: 0.9987\n",
      "Epoch 13/100\n",
      "60000/60000 [==============================] - 2s 28us/step - loss: 0.0061 - acc: 0.9986\n",
      "Epoch 14/100\n",
      "60000/60000 [==============================] - 2s 29us/step - loss: 0.0048 - acc: 0.9990\n",
      "Epoch 15/100\n",
      "60000/60000 [==============================] - 2s 29us/step - loss: 0.0077 - acc: 0.9978\n",
      "Epoch 16/100\n",
      "60000/60000 [==============================] - 2s 29us/step - loss: 0.0074 - acc: 0.9977\n",
      "Epoch 17/100\n",
      "60000/60000 [==============================] - 2s 29us/step - loss: 0.0036 - acc: 0.9991\n",
      "Epoch 18/100\n",
      "60000/60000 [==============================] - 2s 28us/step - loss: 0.0029 - acc: 0.9994\n",
      "Epoch 19/100\n",
      "60000/60000 [==============================] - 2s 29us/step - loss: 6.1316e-04 - acc: 1.0000\n",
      "Epoch 20/100\n",
      "60000/60000 [==============================] - 2s 29us/step - loss: 4.9406e-04 - acc: 0.9999\n",
      "Epoch 21/100\n",
      "60000/60000 [==============================] - 2s 29us/step - loss: 0.0101 - acc: 0.9968\n",
      "Epoch 22/100\n",
      "60000/60000 [==============================] - 2s 29us/step - loss: 0.0064 - acc: 0.9980\n",
      "Epoch 23/100\n",
      "60000/60000 [==============================] - 2s 29us/step - loss: 0.0030 - acc: 0.9991\n",
      "Epoch 24/100\n",
      "60000/60000 [==============================] - 2s 29us/step - loss: 5.0470e-04 - acc: 1.0000\n",
      "Epoch 25/100\n",
      "60000/60000 [==============================] - 2s 29us/step - loss: 1.9906e-04 - acc: 1.0000\n",
      "Epoch 26/100\n",
      "60000/60000 [==============================] - 2s 29us/step - loss: 1.4386e-04 - acc: 1.0000\n",
      "Epoch 27/100\n",
      "60000/60000 [==============================] - 2s 29us/step - loss: 1.1914e-04 - acc: 1.0000\n",
      "Epoch 28/100\n",
      "60000/60000 [==============================] - 2s 29us/step - loss: 1.0204e-04 - acc: 1.0000\n",
      "Epoch 29/100\n",
      "60000/60000 [==============================] - 2s 29us/step - loss: 8.6678e-05 - acc: 1.0000\n",
      "Epoch 30/100\n",
      "60000/60000 [==============================] - 2s 29us/step - loss: 7.5859e-05 - acc: 1.0000\n",
      "Epoch 31/100\n",
      "60000/60000 [==============================] - 2s 29us/step - loss: 6.3695e-05 - acc: 1.0000\n",
      "Epoch 32/100\n",
      "60000/60000 [==============================] - 2s 29us/step - loss: 0.0142 - acc: 0.9961\n",
      "Epoch 33/100\n",
      "60000/60000 [==============================] - 2s 29us/step - loss: 0.0104 - acc: 0.9963\n",
      "Epoch 34/100\n",
      "60000/60000 [==============================] - 2s 29us/step - loss: 0.0015 - acc: 0.9996\n",
      "Epoch 35/100\n",
      "60000/60000 [==============================] - 2s 29us/step - loss: 3.4932e-04 - acc: 1.0000\n",
      "Epoch 36/100\n",
      "60000/60000 [==============================] - 2s 29us/step - loss: 3.1138e-04 - acc: 1.0000\n",
      "Epoch 37/100\n",
      "60000/60000 [==============================] - 2s 29us/step - loss: 1.5658e-04 - acc: 1.0000\n",
      "Epoch 38/100\n",
      "60000/60000 [==============================] - 2s 29us/step - loss: 9.6751e-05 - acc: 1.0000\n",
      "Epoch 39/100\n",
      "60000/60000 [==============================] - 2s 29us/step - loss: 7.9259e-05 - acc: 1.0000\n",
      "Epoch 40/100\n",
      "60000/60000 [==============================] - 2s 29us/step - loss: 6.5188e-05 - acc: 1.0000\n",
      "Epoch 41/100\n",
      "60000/60000 [==============================] - 2s 29us/step - loss: 5.5301e-05 - acc: 1.0000\n",
      "Epoch 42/100\n",
      "60000/60000 [==============================] - 2s 29us/step - loss: 4.6680e-05 - acc: 1.0000\n",
      "Epoch 43/100\n",
      "60000/60000 [==============================] - 2s 29us/step - loss: 3.9767e-05 - acc: 1.0000\n",
      "Epoch 44/100\n",
      "60000/60000 [==============================] - 2s 29us/step - loss: 3.4464e-05 - acc: 1.0000\n",
      "Epoch 45/100\n",
      "60000/60000 [==============================] - 2s 29us/step - loss: 2.8689e-05 - acc: 1.0000\n",
      "Epoch 46/100\n",
      "60000/60000 [==============================] - 2s 29us/step - loss: 2.5029e-05 - acc: 1.0000\n",
      "Epoch 47/100\n",
      "60000/60000 [==============================] - 2s 29us/step - loss: 2.0968e-05 - acc: 1.0000\n",
      "Epoch 48/100\n",
      "60000/60000 [==============================] - 2s 29us/step - loss: 1.7153e-05 - acc: 1.0000\n",
      "Epoch 49/100\n",
      "60000/60000 [==============================] - 2s 29us/step - loss: 1.5211e-05 - acc: 1.0000\n",
      "Epoch 50/100\n",
      "60000/60000 [==============================] - 2s 29us/step - loss: 1.2034e-05 - acc: 1.0000\n",
      "Epoch 51/100\n",
      "60000/60000 [==============================] - 2s 29us/step - loss: 1.0160e-05 - acc: 1.0000\n",
      "Epoch 52/100\n",
      "60000/60000 [==============================] - 2s 29us/step - loss: 8.1644e-06 - acc: 1.0000\n",
      "Epoch 53/100\n",
      "60000/60000 [==============================] - 2s 29us/step - loss: 0.0191 - acc: 0.9949\n",
      "Epoch 54/100\n",
      "60000/60000 [==============================] - 2s 29us/step - loss: 0.0039 - acc: 0.9987\n",
      "Epoch 55/100\n",
      "60000/60000 [==============================] - 2s 29us/step - loss: 9.2058e-04 - acc: 0.9997\n",
      "Epoch 56/100\n",
      "60000/60000 [==============================] - 2s 29us/step - loss: 2.4277e-04 - acc: 1.0000\n",
      "Epoch 57/100\n",
      "60000/60000 [==============================] - 2s 29us/step - loss: 6.4735e-05 - acc: 1.0000\n",
      "Epoch 58/100\n",
      "60000/60000 [==============================] - 2s 29us/step - loss: 4.6265e-05 - acc: 1.0000\n",
      "Epoch 59/100\n",
      "60000/60000 [==============================] - 2s 29us/step - loss: 3.7604e-05 - acc: 1.0000\n",
      "Epoch 60/100\n",
      "60000/60000 [==============================] - 2s 29us/step - loss: 3.1592e-05 - acc: 1.0000\n",
      "Epoch 61/100\n",
      "60000/60000 [==============================] - 2s 29us/step - loss: 2.6515e-05 - acc: 1.0000\n",
      "Epoch 62/100\n",
      "60000/60000 [==============================] - 2s 29us/step - loss: 2.2729e-05 - acc: 1.0000\n",
      "Epoch 63/100\n",
      "60000/60000 [==============================] - 2s 29us/step - loss: 1.9515e-05 - acc: 1.0000\n",
      "Epoch 64/100\n",
      "60000/60000 [==============================] - 2s 29us/step - loss: 1.6636e-05 - acc: 1.0000\n",
      "Epoch 65/100\n",
      "60000/60000 [==============================] - 2s 29us/step - loss: 1.4176e-05 - acc: 1.0000\n",
      "Epoch 66/100\n",
      "60000/60000 [==============================] - 2s 29us/step - loss: 1.2199e-05 - acc: 1.0000\n",
      "Epoch 67/100\n",
      "60000/60000 [==============================] - 2s 29us/step - loss: 1.0352e-05 - acc: 1.0000\n",
      "Epoch 68/100\n",
      "60000/60000 [==============================] - 2s 29us/step - loss: 8.8555e-06 - acc: 1.0000\n",
      "Epoch 69/100\n",
      "60000/60000 [==============================] - 2s 29us/step - loss: 7.5377e-06 - acc: 1.0000\n",
      "Epoch 70/100\n",
      "60000/60000 [==============================] - 2s 29us/step - loss: 6.5017e-06 - acc: 1.0000\n",
      "Epoch 71/100\n",
      "60000/60000 [==============================] - 2s 29us/step - loss: 5.5931e-06 - acc: 1.0000\n",
      "Epoch 72/100\n",
      "60000/60000 [==============================] - 2s 29us/step - loss: 4.6994e-06 - acc: 1.0000\n",
      "Epoch 73/100\n",
      "60000/60000 [==============================] - 2s 29us/step - loss: 4.0244e-06 - acc: 1.0000\n",
      "Epoch 74/100\n",
      "60000/60000 [==============================] - 2s 29us/step - loss: 3.5117e-06 - acc: 1.0000\n",
      "Epoch 75/100\n",
      "60000/60000 [==============================] - 2s 29us/step - loss: 3.0099e-06 - acc: 1.0000\n",
      "Epoch 76/100\n",
      "60000/60000 [==============================] - 2s 29us/step - loss: 2.4896e-06 - acc: 1.0000\n",
      "Epoch 77/100\n",
      "60000/60000 [==============================] - 2s 29us/step - loss: 2.1444e-06 - acc: 1.0000\n",
      "Epoch 78/100\n",
      "60000/60000 [==============================] - 2s 29us/step - loss: 1.9695e-06 - acc: 1.0000\n",
      "Epoch 79/100\n",
      "60000/60000 [==============================] - 2s 29us/step - loss: 0.0202 - acc: 0.9953\n",
      "Epoch 80/100\n",
      "60000/60000 [==============================] - 2s 29us/step - loss: 0.0026 - acc: 0.9991\n",
      "Epoch 81/100\n",
      "60000/60000 [==============================] - 2s 29us/step - loss: 0.0010 - acc: 0.9997\n",
      "Epoch 82/100\n",
      "60000/60000 [==============================] - 2s 29us/step - loss: 2.7895e-04 - acc: 1.0000\n",
      "Epoch 83/100\n",
      "60000/60000 [==============================] - 2s 29us/step - loss: 4.2047e-05 - acc: 1.0000\n",
      "Epoch 84/100\n",
      "60000/60000 [==============================] - 2s 29us/step - loss: 2.7235e-05 - acc: 1.0000\n",
      "Epoch 85/100\n",
      "60000/60000 [==============================] - 2s 29us/step - loss: 2.2246e-05 - acc: 1.0000\n",
      "Epoch 86/100\n",
      "60000/60000 [==============================] - 2s 29us/step - loss: 1.8695e-05 - acc: 1.0000\n",
      "Epoch 87/100\n",
      "60000/60000 [==============================] - 2s 29us/step - loss: 1.5769e-05 - acc: 1.0000\n",
      "Epoch 88/100\n",
      "60000/60000 [==============================] - 2s 29us/step - loss: 1.3379e-05 - acc: 1.0000\n",
      "Epoch 89/100\n",
      "60000/60000 [==============================] - 2s 29us/step - loss: 1.1318e-05 - acc: 1.0000\n",
      "Epoch 90/100\n",
      "60000/60000 [==============================] - 2s 29us/step - loss: 9.6823e-06 - acc: 1.0000\n",
      "Epoch 91/100\n",
      "60000/60000 [==============================] - 2s 29us/step - loss: 8.1793e-06 - acc: 1.0000\n",
      "Epoch 92/100\n",
      "60000/60000 [==============================] - 2s 29us/step - loss: 6.9563e-06 - acc: 1.0000\n",
      "Epoch 93/100\n",
      "60000/60000 [==============================] - 2s 29us/step - loss: 5.9185e-06 - acc: 1.0000\n",
      "Epoch 94/100\n",
      "60000/60000 [==============================] - 2s 29us/step - loss: 5.0370e-06 - acc: 1.0000\n",
      "Epoch 95/100\n",
      "60000/60000 [==============================] - 2s 29us/step - loss: 4.3043e-06 - acc: 1.0000\n",
      "Epoch 96/100\n",
      "60000/60000 [==============================] - 2s 29us/step - loss: 3.6790e-06 - acc: 1.0000\n",
      "Epoch 97/100\n",
      "60000/60000 [==============================] - 2s 29us/step - loss: 3.1104e-06 - acc: 1.0000\n",
      "Epoch 98/100\n",
      "60000/60000 [==============================] - 2s 29us/step - loss: 2.6715e-06 - acc: 1.0000\n",
      "Epoch 99/100\n",
      "60000/60000 [==============================] - 2s 29us/step - loss: 2.2888e-06 - acc: 1.0000\n",
      "Epoch 100/100\n",
      "60000/60000 [==============================] - 2s 29us/step - loss: 1.9542e-06 - acc: 1.0000\n"
     ]
    },
    {
     "data": {
      "text/plain": [
       "<keras.callbacks.History at 0x7f288deb5860>"
      ]
     },
     "execution_count": 15,
     "metadata": {},
     "output_type": "execute_result"
    }
   ],
   "source": [
    "network.fit(train_images, train_labels, epochs=100, batch_size = 128)"
   ]
  },
  {
   "cell_type": "code",
   "execution_count": 16,
   "metadata": {},
   "outputs": [
    {
     "name": "stdout",
     "output_type": "stream",
     "text": [
      "10000/10000 [==============================] - 0s 40us/step\n"
     ]
    }
   ],
   "source": [
    "test_loss, test_acc = network.evaluate(test_images, test_labels)"
   ]
  },
  {
   "cell_type": "code",
   "execution_count": 17,
   "metadata": {},
   "outputs": [
    {
     "name": "stdout",
     "output_type": "stream",
     "text": [
      "test_acc is : 0.9839\n"
     ]
    }
   ],
   "source": [
    "print('test_acc is :', test_acc)"
   ]
  },
  {
   "cell_type": "code",
   "execution_count": 19,
   "metadata": {},
   "outputs": [],
   "source": [
    "from keras.models import load_model\n",
    "\n",
    "network.save('my_model.h5')  # creates a HDF5 file 'my_model.h5'\n",
    "\n",
    "# returns a compiled model\n",
    "# identical to the previous one\n",
    "#model = load_model('my_model.h5')"
   ]
  },
  {
   "cell_type": "code",
   "execution_count": 20,
   "metadata": {},
   "outputs": [],
   "source": [
    "bucket = 'deeplearning-created-models'\n",
    "prefix = 'sagemaker/keras-nn-mnist'\n",
    " \n",
    "# Define IAM role\n",
    "import boto3\n",
    "import re\n",
    "from sagemaker import get_execution_role\n",
    "\n",
    "role = get_execution_role()"
   ]
  },
  {
   "cell_type": "code",
   "execution_count": 21,
   "metadata": {},
   "outputs": [
    {
     "ename": "AttributeError",
     "evalue": "'Sequential' object has no attribute 'deploy'",
     "output_type": "error",
     "traceback": [
      "\u001b[0;31m---------------------------------------------------------------------------\u001b[0m",
      "\u001b[0;31mAttributeError\u001b[0m                            Traceback (most recent call last)",
      "\u001b[0;32m<ipython-input-21-3a0d6481dbdb>\u001b[0m in \u001b[0;36m<module>\u001b[0;34m()\u001b[0m\n\u001b[0;32m----> 1\u001b[0;31m network_predictor = network.deploy(initial_instance_count=1,\n\u001b[0m\u001b[1;32m      2\u001b[0m                                  instance_type='ml.m4.xlarge')\n",
      "\u001b[0;31mAttributeError\u001b[0m: 'Sequential' object has no attribute 'deploy'"
     ]
    }
   ],
   "source": [
    "network_predictor = network.deploy(initial_instance_count=1,\n",
    "                                 instance_type='ml.m4.xlarge')"
   ]
  }
 ],
 "metadata": {
  "kernelspec": {
   "display_name": "conda_tensorflow_p36",
   "language": "python",
   "name": "conda_tensorflow_p36"
  },
  "language_info": {
   "codemirror_mode": {
    "name": "ipython",
    "version": 3
   },
   "file_extension": ".py",
   "mimetype": "text/x-python",
   "name": "python",
   "nbconvert_exporter": "python",
   "pygments_lexer": "ipython3",
   "version": "3.6.5"
  }
 },
 "nbformat": 4,
 "nbformat_minor": 2
}

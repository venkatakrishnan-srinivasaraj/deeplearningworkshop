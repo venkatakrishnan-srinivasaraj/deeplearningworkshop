{
 "cells": [
  {
   "cell_type": "code",
   "execution_count": 1,
   "metadata": {},
   "outputs": [
    {
     "name": "stderr",
     "output_type": "stream",
     "text": [
      "Using TensorFlow backend.\n"
     ]
    },
    {
     "data": {
      "text/plain": [
       "'2.2.2'"
      ]
     },
     "execution_count": 1,
     "metadata": {},
     "output_type": "execute_result"
    }
   ],
   "source": [
    "import tensorflow as tf\n",
    "sess = tf.Session(config=tf.ConfigProto(log_device_placement=True))\n",
    "import keras\n",
    "keras.__version__"
   ]
  },
  {
   "cell_type": "code",
   "execution_count": 2,
   "metadata": {
    "collapsed": true
   },
   "outputs": [],
   "source": [
    "from keras.applications import VGG16\n",
    "\n",
    "conv_base = VGG16(weights='imagenet',\n",
    "                  include_top=False,\n",
    "                  input_shape=(150, 150, 3))"
   ]
  },
  {
   "cell_type": "code",
   "execution_count": 3,
   "metadata": {},
   "outputs": [
    {
     "name": "stdout",
     "output_type": "stream",
     "text": [
      "_________________________________________________________________\n",
      "Layer (type)                 Output Shape              Param #   \n",
      "=================================================================\n",
      "input_1 (InputLayer)         (None, 150, 150, 3)       0         \n",
      "_________________________________________________________________\n",
      "block1_conv1 (Conv2D)        (None, 150, 150, 64)      1792      \n",
      "_________________________________________________________________\n",
      "block1_conv2 (Conv2D)        (None, 150, 150, 64)      36928     \n",
      "_________________________________________________________________\n",
      "block1_pool (MaxPooling2D)   (None, 75, 75, 64)        0         \n",
      "_________________________________________________________________\n",
      "block2_conv1 (Conv2D)        (None, 75, 75, 128)       73856     \n",
      "_________________________________________________________________\n",
      "block2_conv2 (Conv2D)        (None, 75, 75, 128)       147584    \n",
      "_________________________________________________________________\n",
      "block2_pool (MaxPooling2D)   (None, 37, 37, 128)       0         \n",
      "_________________________________________________________________\n",
      "block3_conv1 (Conv2D)        (None, 37, 37, 256)       295168    \n",
      "_________________________________________________________________\n",
      "block3_conv2 (Conv2D)        (None, 37, 37, 256)       590080    \n",
      "_________________________________________________________________\n",
      "block3_conv3 (Conv2D)        (None, 37, 37, 256)       590080    \n",
      "_________________________________________________________________\n",
      "block3_pool (MaxPooling2D)   (None, 18, 18, 256)       0         \n",
      "_________________________________________________________________\n",
      "block4_conv1 (Conv2D)        (None, 18, 18, 512)       1180160   \n",
      "_________________________________________________________________\n",
      "block4_conv2 (Conv2D)        (None, 18, 18, 512)       2359808   \n",
      "_________________________________________________________________\n",
      "block4_conv3 (Conv2D)        (None, 18, 18, 512)       2359808   \n",
      "_________________________________________________________________\n",
      "block4_pool (MaxPooling2D)   (None, 9, 9, 512)         0         \n",
      "_________________________________________________________________\n",
      "block5_conv1 (Conv2D)        (None, 9, 9, 512)         2359808   \n",
      "_________________________________________________________________\n",
      "block5_conv2 (Conv2D)        (None, 9, 9, 512)         2359808   \n",
      "_________________________________________________________________\n",
      "block5_conv3 (Conv2D)        (None, 9, 9, 512)         2359808   \n",
      "_________________________________________________________________\n",
      "block5_pool (MaxPooling2D)   (None, 4, 4, 512)         0         \n",
      "=================================================================\n",
      "Total params: 14,714,688\n",
      "Trainable params: 14,714,688\n",
      "Non-trainable params: 0\n",
      "_________________________________________________________________\n"
     ]
    }
   ],
   "source": [
    "conv_base.summary()"
   ]
  },
  {
   "cell_type": "code",
   "execution_count": 4,
   "metadata": {
    "collapsed": true
   },
   "outputs": [],
   "source": [
    "# # Create smaller dataset for Dogs vs. Cats\n",
    "# import os, shutil\n",
    "\n",
    "# original_dataset_dir = '/home/deeplearn/deepfun/keras/train/'\n",
    "\n",
    "# base_dir = '/home/deeplearn/deepfun/keras/data'\n",
    "# if not os.path.exists(base_dir):\n",
    "#     os.mkdir(base_dir)\n",
    "\n",
    "# # Create directories\n",
    "# train_dir = os.path.join(base_dir,'train')\n",
    "# if not os.path.exists(train_dir):\n",
    "#     os.mkdir(train_dir)\n",
    "# validation_dir = os.path.join(base_dir,'validation')\n",
    "# if not os.path.exists(validation_dir):\n",
    "#     os.mkdir(validation_dir)\n",
    "# test_dir = os.path.join(base_dir,'test')\n",
    "# if not os.path.exists(test_dir):\n",
    "#     os.mkdir(test_dir)\n",
    "\n",
    "# train_cats_dir = os.path.join(train_dir,'cats')\n",
    "# if not os.path.exists(train_cats_dir):\n",
    "#     os.mkdir(train_cats_dir)\n",
    "\n",
    "# train_dogs_dir = os.path.join(train_dir,'dogs')\n",
    "# if not os.path.exists(train_dogs_dir):\n",
    "#     os.mkdir(train_dogs_dir)\n",
    "\n",
    "# validation_cats_dir = os.path.join(validation_dir,'cats')\n",
    "# if not os.path.exists(validation_cats_dir):\n",
    "#     os.mkdir(validation_cats_dir)\n",
    "\n",
    "# validation_dogs_dir = os.path.join(validation_dir, 'dogs')\n",
    "# if not os.path.exists(validation_dogs_dir):\n",
    "#     os.mkdir(validation_dogs_dir)\n",
    "\n",
    "# test_cats_dir = os.path.join(test_dir, 'cats')     \n",
    "# if not os.path.exists(test_cats_dir):\n",
    "#     os.mkdir(test_cats_dir)\n",
    "\n",
    "# test_dogs_dir = os.path.join(test_dir, 'dogs')\n",
    "# if not os.path.exists(test_dogs_dir):\n",
    "#     os.mkdir(test_dogs_dir)\n",
    "\n",
    "# # Copy first 1000 cat images to train_cats_dir\n",
    "# fnames = ['cat.{}.jpg'.format(i) for i in range(0, 1000)]\n",
    "# for fname in fnames:\n",
    "#     src = os.path.join(original_dataset_dir, fname)\n",
    "#     dst = os.path.join(train_cats_dir, fname)\n",
    "#     shutil.copyfile(src, dst)\n",
    "    \n",
    "# # Copy next 500 cat images to validation_cats_dir\n",
    "# fnames = ['cat.{}.jpg'.format(i) for i in range(1001, 1501)]\n",
    "# for fname in fnames:\n",
    "#     src = os.path.join(original_dataset_dir, fname)\n",
    "#     dst = os.path.join(validation_cats_dir, fname)\n",
    "#     shutil.copyfile(src, dst)\n",
    "    \n",
    "# # Copy next 500 cat images to test_cats_dir\n",
    "# fnames = ['cat.{}.jpg'.format(i) for i in range(1502,2002)]\n",
    "# for fname in fnames:\n",
    "#     src = os.path.join(original_dataset_dir, fname)\n",
    "#     dst = os.path.join(test_cats_dir, fname)\n",
    "#     shutil.copyfile(src, dst)\n",
    "    \n",
    "# # Copy first 1000 dog images to train_dogs_dir\n",
    "# fnames = ['dog.{}.jpg'.format(i) for i in range(0,1000)]\n",
    "# for fname in fnames:\n",
    "#     src = os.path.join(original_dataset_dir, fname)\n",
    "#     dst = os.path.join(train_dogs_dir, fname)\n",
    "#     shutil.copyfile(src, dst)\n",
    "                                                \n",
    "# # Copy next 500 dog images to validation_dogs_dir\n",
    "# fnames = ['dog.{}.jpg'.format(i) for i in range(1001,1501)]\n",
    "# for fname in fnames:\n",
    "#     src = os.path.join(original_dataset_dir, fname)\n",
    "#     dst = os.path.join(validation_dogs_dir, fname)\n",
    "#     shutil.copyfile(src, dst)\n",
    "\n",
    "# # Copy next 500 dog images to test_dogs_dir\n",
    "# fnames = ['dog.{}.jpg'.format(i) for i in range(1502,2002)]\n",
    "# for fname in fnames:\n",
    "#     src = os.path.join(original_dataset_dir, fname)\n",
    "#     dst = os.path.join(test_dogs_dir, fname)\n",
    "#     shutil.copyfile(src, dst)\n",
    "                                                \n",
    "# # Sanity checks\n",
    "# print('total training cat images:', len(os.listdir(train_cats_dir)))\n",
    "# print('total training dog images:', len(os.listdir(train_dogs_dir)))\n",
    "# print('total validation cat images:', len(os.listdir(validation_cats_dir)))\n",
    "# print('total validation dog images:', len(os.listdir(validation_dogs_dir)))\n",
    "# print('total test cat images:', len(os.listdir(test_cats_dir)))\n",
    "# # print('total test dog images:', len(os.listdir(test_dogs_dir)))"
   ]
  },
  {
   "cell_type": "code",
   "execution_count": 5,
   "metadata": {},
   "outputs": [
    {
     "name": "stdout",
     "output_type": "stream",
     "text": [
      "Found 2000 images belonging to 2 classes.\n",
      "Found 1000 images belonging to 2 classes.\n",
      "Found 1000 images belonging to 2 classes.\n"
     ]
    }
   ],
   "source": [
    "import os\n",
    "import numpy as np\n",
    "from keras.preprocessing.image import ImageDataGenerator\n",
    "\n",
    "base_dir =  '/home/ec2-user/SageMaker/data/transferLearning'\n",
    "\n",
    "train_dir = os.path.join(base_dir, 'train')\n",
    "validation_dir = os.path.join(base_dir, 'validation')\n",
    "test_dir = os.path.join(base_dir, 'test')\n",
    "\n",
    "datagen = ImageDataGenerator(rescale=1./255)\n",
    "batch_size = 20\n",
    "\n",
    "def extract_features(directory, sample_count):\n",
    "    features = np.zeros(shape=(sample_count, 4, 4, 512))\n",
    "    labels = np.zeros(shape=(sample_count))\n",
    "    generator = datagen.flow_from_directory(\n",
    "        directory,\n",
    "        target_size=(150, 150),\n",
    "        batch_size=batch_size,\n",
    "        class_mode='binary')\n",
    "    i = 0\n",
    "    for inputs_batch, labels_batch in generator:\n",
    "        features_batch = conv_base.predict(inputs_batch)\n",
    "        features[i * batch_size : (i + 1) * batch_size] = features_batch\n",
    "        labels[i * batch_size : (i + 1) * batch_size] = labels_batch\n",
    "        i += 1\n",
    "        if i * batch_size >= sample_count:\n",
    "            # Note that since generators yield data indefinitely in a loop,\n",
    "            # we must `break` after every image has been seen once.\n",
    "            break\n",
    "    return features, labels\n",
    "\n",
    "train_features, train_labels = extract_features(train_dir, 2000)\n",
    "validation_features, validation_labels = extract_features(validation_dir, 1000)\n",
    "test_features, test_labels = extract_features(test_dir, 1000)"
   ]
  },
  {
   "cell_type": "code",
   "execution_count": 6,
   "metadata": {
    "collapsed": true
   },
   "outputs": [],
   "source": [
    "train_features = np.reshape(train_features, (2000, 4 * 4 * 512))\n",
    "validation_features = np.reshape(validation_features, (1000, 4 * 4 * 512))\n",
    "test_features = np.reshape(test_features, (1000, 4 * 4 * 512))"
   ]
  },
  {
   "cell_type": "code",
   "execution_count": 7,
   "metadata": {},
   "outputs": [
    {
     "name": "stdout",
     "output_type": "stream",
     "text": [
      "Train on 2000 samples, validate on 1000 samples\n",
      "Epoch 1/30\n",
      "2000/2000 [==============================] - 1s 514us/step - loss: 0.6120 - acc: 0.6670 - val_loss: 0.4430 - val_acc: 0.8510\n",
      "Epoch 2/30\n",
      "2000/2000 [==============================] - 1s 284us/step - loss: 0.4266 - acc: 0.8095 - val_loss: 0.3612 - val_acc: 0.8730\n",
      "Epoch 3/30\n",
      "2000/2000 [==============================] - 1s 281us/step - loss: 0.3636 - acc: 0.8465 - val_loss: 0.3257 - val_acc: 0.8750\n",
      "Epoch 4/30\n",
      "2000/2000 [==============================] - 1s 283us/step - loss: 0.3194 - acc: 0.8680 - val_loss: 0.3036 - val_acc: 0.8820\n",
      "Epoch 5/30\n",
      "2000/2000 [==============================] - 1s 282us/step - loss: 0.2981 - acc: 0.8765 - val_loss: 0.2862 - val_acc: 0.8960\n",
      "Epoch 6/30\n",
      "2000/2000 [==============================] - 1s 285us/step - loss: 0.2736 - acc: 0.8955 - val_loss: 0.2731 - val_acc: 0.8980\n",
      "Epoch 7/30\n",
      "2000/2000 [==============================] - 1s 283us/step - loss: 0.2542 - acc: 0.8985 - val_loss: 0.2665 - val_acc: 0.8940\n",
      "Epoch 8/30\n",
      "2000/2000 [==============================] - 1s 281us/step - loss: 0.2378 - acc: 0.9030 - val_loss: 0.2672 - val_acc: 0.8900\n",
      "Epoch 9/30\n",
      "2000/2000 [==============================] - 1s 284us/step - loss: 0.2214 - acc: 0.9125 - val_loss: 0.2532 - val_acc: 0.8950\n",
      "Epoch 10/30\n",
      "2000/2000 [==============================] - 1s 286us/step - loss: 0.2124 - acc: 0.9255 - val_loss: 0.2578 - val_acc: 0.8970\n",
      "Epoch 11/30\n",
      "2000/2000 [==============================] - 1s 286us/step - loss: 0.1983 - acc: 0.9205 - val_loss: 0.2460 - val_acc: 0.9010\n",
      "Epoch 12/30\n",
      "2000/2000 [==============================] - 1s 286us/step - loss: 0.1911 - acc: 0.9305 - val_loss: 0.2452 - val_acc: 0.9030\n",
      "Epoch 13/30\n",
      "2000/2000 [==============================] - 1s 286us/step - loss: 0.1821 - acc: 0.9335 - val_loss: 0.2412 - val_acc: 0.9050\n",
      "Epoch 14/30\n",
      "2000/2000 [==============================] - 1s 285us/step - loss: 0.1736 - acc: 0.9385 - val_loss: 0.2483 - val_acc: 0.8950\n",
      "Epoch 15/30\n",
      "2000/2000 [==============================] - 1s 286us/step - loss: 0.1689 - acc: 0.9365 - val_loss: 0.2372 - val_acc: 0.9070\n",
      "Epoch 16/30\n",
      "2000/2000 [==============================] - 1s 284us/step - loss: 0.1591 - acc: 0.9475 - val_loss: 0.2406 - val_acc: 0.8990\n",
      "Epoch 17/30\n",
      "2000/2000 [==============================] - 1s 286us/step - loss: 0.1515 - acc: 0.9505 - val_loss: 0.2371 - val_acc: 0.9060\n",
      "Epoch 18/30\n",
      "2000/2000 [==============================] - 1s 286us/step - loss: 0.1515 - acc: 0.9460 - val_loss: 0.2348 - val_acc: 0.9120\n",
      "Epoch 19/30\n",
      "2000/2000 [==============================] - 1s 288us/step - loss: 0.1436 - acc: 0.9550 - val_loss: 0.2367 - val_acc: 0.8990\n",
      "Epoch 20/30\n",
      "2000/2000 [==============================] - 1s 286us/step - loss: 0.1346 - acc: 0.9560 - val_loss: 0.2410 - val_acc: 0.8990\n",
      "Epoch 21/30\n",
      "2000/2000 [==============================] - 1s 287us/step - loss: 0.1264 - acc: 0.9620 - val_loss: 0.2356 - val_acc: 0.9050\n",
      "Epoch 22/30\n",
      "2000/2000 [==============================] - 1s 285us/step - loss: 0.1238 - acc: 0.9590 - val_loss: 0.2392 - val_acc: 0.8980\n",
      "Epoch 23/30\n",
      "2000/2000 [==============================] - 1s 287us/step - loss: 0.1190 - acc: 0.9610 - val_loss: 0.2351 - val_acc: 0.9060\n",
      "Epoch 24/30\n",
      "2000/2000 [==============================] - 1s 287us/step - loss: 0.1167 - acc: 0.9645 - val_loss: 0.2353 - val_acc: 0.9050\n",
      "Epoch 25/30\n",
      "2000/2000 [==============================] - 1s 289us/step - loss: 0.1098 - acc: 0.9680 - val_loss: 0.2446 - val_acc: 0.9010\n",
      "Epoch 26/30\n",
      "2000/2000 [==============================] - 1s 288us/step - loss: 0.1047 - acc: 0.9685 - val_loss: 0.2409 - val_acc: 0.8990\n",
      "Epoch 27/30\n",
      "2000/2000 [==============================] - 1s 286us/step - loss: 0.0964 - acc: 0.9705 - val_loss: 0.2381 - val_acc: 0.9020\n",
      "Epoch 28/30\n",
      "2000/2000 [==============================] - 1s 286us/step - loss: 0.0979 - acc: 0.9660 - val_loss: 0.2460 - val_acc: 0.9010\n",
      "Epoch 29/30\n",
      "2000/2000 [==============================] - 1s 287us/step - loss: 0.0905 - acc: 0.9730 - val_loss: 0.2406 - val_acc: 0.9050\n",
      "Epoch 30/30\n",
      "2000/2000 [==============================] - 1s 284us/step - loss: 0.0863 - acc: 0.9750 - val_loss: 0.2417 - val_acc: 0.9000\n"
     ]
    }
   ],
   "source": [
    "from keras import models\n",
    "from keras import layers\n",
    "from keras import optimizers\n",
    "\n",
    "model = models.Sequential()\n",
    "model.add(layers.Dense(256, activation='relu', input_dim=4 * 4 * 512))\n",
    "model.add(layers.Dropout(0.5))\n",
    "model.add(layers.Dense(1, activation='sigmoid'))\n",
    "\n",
    "model.compile(optimizer=optimizers.RMSprop(lr=2e-5),\n",
    "              loss='binary_crossentropy',\n",
    "              metrics=['acc'])\n",
    "\n",
    "history = model.fit(train_features, train_labels,\n",
    "                    epochs=30,\n",
    "                    batch_size=20,\n",
    "                    validation_data=(validation_features, validation_labels))"
   ]
  },
  {
   "cell_type": "code",
   "execution_count": 8,
   "metadata": {},
   "outputs": [
    {
     "data": {
      "text/plain": [
       "<Figure size 640x480 with 1 Axes>"
      ]
     },
     "metadata": {},
     "output_type": "display_data"
    },
    {
     "data": {
      "text/plain": [
       "<Figure size 640x480 with 1 Axes>"
      ]
     },
     "metadata": {},
     "output_type": "display_data"
    }
   ],
   "source": [
    "import matplotlib.pyplot as plt\n",
    "\n",
    "acc = history.history['acc']\n",
    "val_acc = history.history['val_acc']\n",
    "loss = history.history['loss']\n",
    "val_loss = history.history['val_loss']\n",
    "\n",
    "epochs = range(len(acc))\n",
    "\n",
    "plt.plot(epochs, acc, 'bo', label='Training acc')\n",
    "plt.plot(epochs, val_acc, 'b', label='Validation acc')\n",
    "plt.title('Training and validation accuracy')\n",
    "plt.legend()\n",
    "\n",
    "plt.figure()\n",
    "\n",
    "plt.plot(epochs, loss, 'bo', label='Training loss')\n",
    "plt.plot(epochs, val_loss, 'b', label='Validation loss')\n",
    "plt.title('Training and validation loss')\n",
    "plt.legend()\n",
    "\n",
    "plt.show()"
   ]
  },
  {
   "cell_type": "code",
   "execution_count": 9,
   "metadata": {},
   "outputs": [],
   "source": [
    "model = models.Sequential()\n",
    "model.add(conv_base)\n",
    "model.add(layers.Flatten())\n",
    "model.add(layers.Dense(256, activation='relu'))\n",
    "model.add(layers.Dense(1, activation='sigmoid'))"
   ]
  },
  {
   "cell_type": "code",
   "execution_count": 10,
   "metadata": {},
   "outputs": [
    {
     "name": "stdout",
     "output_type": "stream",
     "text": [
      "_________________________________________________________________\n",
      "Layer (type)                 Output Shape              Param #   \n",
      "=================================================================\n",
      "vgg16 (Model)                (None, 4, 4, 512)         14714688  \n",
      "_________________________________________________________________\n",
      "flatten_1 (Flatten)          (None, 8192)              0         \n",
      "_________________________________________________________________\n",
      "dense_3 (Dense)              (None, 256)               2097408   \n",
      "_________________________________________________________________\n",
      "dense_4 (Dense)              (None, 1)                 257       \n",
      "=================================================================\n",
      "Total params: 16,812,353\n",
      "Trainable params: 16,812,353\n",
      "Non-trainable params: 0\n",
      "_________________________________________________________________\n"
     ]
    }
   ],
   "source": [
    "model.summary()"
   ]
  },
  {
   "cell_type": "code",
   "execution_count": 11,
   "metadata": {},
   "outputs": [
    {
     "name": "stdout",
     "output_type": "stream",
     "text": [
      "These are the # of trainable weights before freezing the conv base:  30\n"
     ]
    }
   ],
   "source": [
    "# lets Freeze the pre-trained conv layer\n",
    "print('These are the # of trainable weights before freezing the conv base: ', len(model.trainable_weights))"
   ]
  },
  {
   "cell_type": "code",
   "execution_count": 12,
   "metadata": {
    "collapsed": true
   },
   "outputs": [],
   "source": [
    "conv_base.trainable = False"
   ]
  },
  {
   "cell_type": "code",
   "execution_count": 13,
   "metadata": {},
   "outputs": [
    {
     "name": "stdout",
     "output_type": "stream",
     "text": [
      "These are the # of trainable weights before freezing the conv base:  4\n"
     ]
    }
   ],
   "source": [
    "print('These are the # of trainable weights before freezing the conv base: ', len(model.trainable_weights))"
   ]
  },
  {
   "cell_type": "code",
   "execution_count": 14,
   "metadata": {
    "collapsed": true
   },
   "outputs": [
    {
     "name": "stdout",
     "output_type": "stream",
     "text": [
      "Found 2000 images belonging to 2 classes.\n",
      "Found 1000 images belonging to 2 classes.\n",
      "Epoch 1/30\n",
      " - 22s - loss: 0.5970 - acc: 0.6870 - val_loss: 0.4495 - val_acc: 0.8310\n",
      "Epoch 2/30\n",
      " - 20s - loss: 0.4781 - acc: 0.7895 - val_loss: 0.3615 - val_acc: 0.8660\n",
      "Epoch 3/30\n",
      " - 20s - loss: 0.4322 - acc: 0.8125 - val_loss: 0.3484 - val_acc: 0.8540\n",
      "Epoch 4/30\n",
      " - 20s - loss: 0.4036 - acc: 0.8235 - val_loss: 0.3109 - val_acc: 0.8730\n",
      "Epoch 5/30\n",
      " - 20s - loss: 0.3798 - acc: 0.8440 - val_loss: 0.2932 - val_acc: 0.8830\n",
      "Epoch 6/30\n",
      " - 20s - loss: 0.3735 - acc: 0.8360 - val_loss: 0.2849 - val_acc: 0.8890\n",
      "Epoch 7/30\n",
      " - 20s - loss: 0.3659 - acc: 0.8385 - val_loss: 0.2756 - val_acc: 0.8940\n",
      "Epoch 8/30\n",
      " - 20s - loss: 0.3534 - acc: 0.8405 - val_loss: 0.2669 - val_acc: 0.9000\n",
      "Epoch 9/30\n",
      " - 20s - loss: 0.3367 - acc: 0.8540 - val_loss: 0.2608 - val_acc: 0.8970\n",
      "Epoch 10/30\n",
      " - 20s - loss: 0.3341 - acc: 0.8595 - val_loss: 0.2607 - val_acc: 0.8970\n",
      "Epoch 11/30\n",
      " - 20s - loss: 0.3296 - acc: 0.8595 - val_loss: 0.2558 - val_acc: 0.9050\n",
      "Epoch 12/30\n",
      " - 20s - loss: 0.3257 - acc: 0.8575 - val_loss: 0.2522 - val_acc: 0.9050\n",
      "Epoch 13/30\n",
      " - 20s - loss: 0.3218 - acc: 0.8600 - val_loss: 0.2483 - val_acc: 0.9040\n",
      "Epoch 14/30\n",
      " - 20s - loss: 0.3253 - acc: 0.8560 - val_loss: 0.2628 - val_acc: 0.8910\n",
      "Epoch 15/30\n",
      " - 20s - loss: 0.3044 - acc: 0.8710 - val_loss: 0.2464 - val_acc: 0.9050\n",
      "Epoch 16/30\n",
      " - 20s - loss: 0.3154 - acc: 0.8580 - val_loss: 0.2600 - val_acc: 0.8930\n",
      "Epoch 17/30\n",
      " - 20s - loss: 0.3119 - acc: 0.8645 - val_loss: 0.2470 - val_acc: 0.9000\n",
      "Epoch 18/30\n",
      " - 20s - loss: 0.3072 - acc: 0.8720 - val_loss: 0.2411 - val_acc: 0.9060\n",
      "Epoch 19/30\n",
      " - 20s - loss: 0.3151 - acc: 0.8555 - val_loss: 0.2471 - val_acc: 0.9050\n",
      "Epoch 20/30\n",
      " - 20s - loss: 0.2950 - acc: 0.8640 - val_loss: 0.2445 - val_acc: 0.9070\n",
      "Epoch 21/30\n",
      " - 21s - loss: 0.3085 - acc: 0.8655 - val_loss: 0.2572 - val_acc: 0.8970\n",
      "Epoch 22/30\n",
      " - 20s - loss: 0.2928 - acc: 0.8765 - val_loss: 0.2479 - val_acc: 0.9000\n",
      "Epoch 23/30\n",
      " - 20s - loss: 0.2938 - acc: 0.8770 - val_loss: 0.2483 - val_acc: 0.9050\n",
      "Epoch 24/30\n",
      " - 20s - loss: 0.2968 - acc: 0.8685 - val_loss: 0.2378 - val_acc: 0.9050\n",
      "Epoch 25/30\n",
      " - 20s - loss: 0.2920 - acc: 0.8775 - val_loss: 0.2387 - val_acc: 0.9080\n",
      "Epoch 26/30\n",
      " - 20s - loss: 0.2925 - acc: 0.8735 - val_loss: 0.2522 - val_acc: 0.8950\n",
      "Epoch 27/30\n",
      " - 20s - loss: 0.2911 - acc: 0.8715 - val_loss: 0.2467 - val_acc: 0.9020\n",
      "Epoch 28/30\n",
      " - 21s - loss: 0.2843 - acc: 0.8780 - val_loss: 0.2322 - val_acc: 0.9090\n",
      "Epoch 29/30\n",
      " - 20s - loss: 0.2799 - acc: 0.8895 - val_loss: 0.2395 - val_acc: 0.9030\n",
      "Epoch 30/30\n",
      " - 20s - loss: 0.2749 - acc: 0.8835 - val_loss: 0.2346 - val_acc: 0.9100\n"
     ]
    }
   ],
   "source": [
    "from keras.preprocessing.image import ImageDataGenerator\n",
    "\n",
    "train_datagen = ImageDataGenerator(\n",
    "      rescale=1./255,\n",
    "      rotation_range=40,\n",
    "      width_shift_range=0.2,\n",
    "      height_shift_range=0.2,\n",
    "      shear_range=0.2,\n",
    "      zoom_range=0.2,\n",
    "      horizontal_flip=True,\n",
    "      fill_mode='nearest')\n",
    "\n",
    "# Note that the validation data should not be augmented!\n",
    "test_datagen = ImageDataGenerator(rescale=1./255)\n",
    "\n",
    "train_generator = train_datagen.flow_from_directory(\n",
    "        # This is the target directory\n",
    "        train_dir,\n",
    "        # All images will be resized to 150x150\n",
    "        target_size=(150, 150),\n",
    "        batch_size=20,\n",
    "        # Since we use binary_crossentropy loss, we need binary labels\n",
    "        class_mode='binary')\n",
    "\n",
    "validation_generator = test_datagen.flow_from_directory(\n",
    "        validation_dir,\n",
    "        target_size=(150, 150),\n",
    "        batch_size=20,\n",
    "        class_mode='binary')\n",
    "\n",
    "model.compile(loss='binary_crossentropy',\n",
    "              optimizer=optimizers.RMSprop(lr=2e-5),\n",
    "              metrics=['acc'])\n",
    "\n",
    "history = model.fit_generator(\n",
    "train_generator,\n",
    "steps_per_epoch = 100,\n",
    "epochs = 30,\n",
    "validation_data = validation_generator,\n",
    "validation_steps = 50,\n",
    "verbose=2)"
   ]
  },
  {
   "cell_type": "code",
   "execution_count": 15,
   "metadata": {},
   "outputs": [
    {
     "data": {
      "image/png": "[encoded data removed]",
      "text/plain": [
       "<Figure size 432x288 with 1 Axes>"
      ]
     },
     "metadata": {},
     "output_type": "display_data"
    },
    {
     "data": {
      "image/png": "[encoded data removed]",
      "text/plain": [
       "<Figure size 432x288 with 1 Axes>"
      ]
     },
     "metadata": {},
     "output_type": "display_data"
    }
   ],
   "source": [
    "acc = history.history['acc']\n",
    "val_acc = history.history['val_acc']\n",
    "loss = history.history['loss']\n",
    "val_loss = history.history['val_loss']\n",
    "\n",
    "epochs = range(len(acc))\n",
    "\n",
    "plt.plot(epochs, acc, 'bo', label='Training acc')\n",
    "plt.plot(epochs, val_acc, 'b', label='Validation acc')\n",
    "plt.title('Training and validation accuracy')\n",
    "plt.legend()\n",
    "\n",
    "plt.figure()\n",
    "\n",
    "plt.plot(epochs, loss, 'bo', label='Training loss')\n",
    "plt.plot(epochs, val_loss, 'b', label='Validation loss')\n",
    "plt.title('Training and validation loss')\n",
    "plt.legend()\n",
    "\n",
    "plt.show()"
   ]
  },
  {
   "cell_type": "code",
   "execution_count": 17,
   "metadata": {},
   "outputs": [],
   "source": [
    "conv_base.trainable = True\n",
    "\n",
    "set_trainable = False\n",
    "\n",
    "for layer in conv_base.layers:\n",
    "    if layer.name == 'block5_conv1':\n",
    "        set_trainable = True\n",
    "    if set_trainable:\n",
    "        layer.trainable = True\n",
    "    else:\n",
    "        layer.trainable = False"
   ]
  },
  {
   "cell_type": "code",
   "execution_count": 22,
   "metadata": {},
   "outputs": [
    {
     "name": "stdout",
     "output_type": "stream",
     "text": [
      "Epoch 1/100\n",
      "100/100 [==============================] - 24s 238ms/step - loss: 0.2903 - acc: 0.8780 - val_loss: 0.2008 - val_acc: 0.9280\n",
      "Epoch 2/100\n",
      "100/100 [==============================] - 22s 224ms/step - loss: 0.2263 - acc: 0.9120 - val_loss: 0.2036 - val_acc: 0.9260\n",
      "Epoch 3/100\n",
      "100/100 [==============================] - 23s 227ms/step - loss: 0.2104 - acc: 0.9150 - val_loss: 0.1786 - val_acc: 0.9360\n",
      "Epoch 4/100\n",
      "100/100 [==============================] - 23s 229ms/step - loss: 0.1951 - acc: 0.9165 - val_loss: 0.2027 - val_acc: 0.9160\n",
      "Epoch 5/100\n",
      "100/100 [==============================] - 23s 228ms/step - loss: 0.1808 - acc: 0.9295 - val_loss: 0.1911 - val_acc: 0.9360\n",
      "Epoch 6/100\n",
      "100/100 [==============================] - 23s 228ms/step - loss: 0.1669 - acc: 0.9345 - val_loss: 0.1781 - val_acc: 0.9310\n",
      "Epoch 7/100\n",
      "100/100 [==============================] - 23s 228ms/step - loss: 0.1576 - acc: 0.9380 - val_loss: 0.1965 - val_acc: 0.9200\n",
      "Epoch 8/100\n",
      "100/100 [==============================] - 23s 228ms/step - loss: 0.1470 - acc: 0.9440 - val_loss: 0.2031 - val_acc: 0.9210\n",
      "Epoch 9/100\n",
      "100/100 [==============================] - 23s 228ms/step - loss: 0.1379 - acc: 0.9465 - val_loss: 0.1928 - val_acc: 0.9370\n",
      "Epoch 10/100\n",
      "100/100 [==============================] - 23s 228ms/step - loss: 0.1293 - acc: 0.9470 - val_loss: 0.1853 - val_acc: 0.9290\n",
      "Epoch 11/100\n",
      "100/100 [==============================] - 23s 228ms/step - loss: 0.1227 - acc: 0.9485 - val_loss: 0.1784 - val_acc: 0.9320\n",
      "Epoch 12/100\n",
      "100/100 [==============================] - 23s 228ms/step - loss: 0.1149 - acc: 0.9575 - val_loss: 0.2075 - val_acc: 0.9310\n",
      "Epoch 13/100\n",
      "100/100 [==============================] - 23s 228ms/step - loss: 0.1270 - acc: 0.9560 - val_loss: 0.2055 - val_acc: 0.9260\n",
      "Epoch 14/100\n",
      "100/100 [==============================] - 23s 228ms/step - loss: 0.1055 - acc: 0.9605 - val_loss: 0.3090 - val_acc: 0.9120\n",
      "Epoch 15/100\n",
      "100/100 [==============================] - 23s 228ms/step - loss: 0.0967 - acc: 0.9625 - val_loss: 0.2072 - val_acc: 0.9350\n",
      "Epoch 16/100\n",
      "100/100 [==============================] - 23s 228ms/step - loss: 0.0923 - acc: 0.9620 - val_loss: 0.1763 - val_acc: 0.9400\n",
      "Epoch 17/100\n",
      "100/100 [==============================] - 23s 228ms/step - loss: 0.0879 - acc: 0.9705 - val_loss: 0.1829 - val_acc: 0.9430\n",
      "Epoch 18/100\n",
      "100/100 [==============================] - 23s 228ms/step - loss: 0.0798 - acc: 0.9690 - val_loss: 0.2054 - val_acc: 0.9420\n",
      "Epoch 19/100\n",
      "100/100 [==============================] - 23s 228ms/step - loss: 0.0710 - acc: 0.9705 - val_loss: 0.1948 - val_acc: 0.9450\n",
      "Epoch 20/100\n",
      "100/100 [==============================] - 23s 228ms/step - loss: 0.0765 - acc: 0.9715 - val_loss: 0.2000 - val_acc: 0.9340\n",
      "Epoch 21/100\n",
      "100/100 [==============================] - 23s 228ms/step - loss: 0.0837 - acc: 0.9685 - val_loss: 0.1916 - val_acc: 0.9350\n",
      "Epoch 22/100\n",
      "100/100 [==============================] - 23s 228ms/step - loss: 0.0598 - acc: 0.9785 - val_loss: 0.1836 - val_acc: 0.9400\n",
      "Epoch 23/100\n",
      "100/100 [==============================] - 23s 228ms/step - loss: 0.0873 - acc: 0.9670 - val_loss: 0.2737 - val_acc: 0.9220\n",
      "Epoch 24/100\n",
      "100/100 [==============================] - 23s 228ms/step - loss: 0.0618 - acc: 0.9790 - val_loss: 0.2021 - val_acc: 0.9310\n",
      "Epoch 25/100\n",
      "100/100 [==============================] - 23s 228ms/step - loss: 0.0640 - acc: 0.9790 - val_loss: 0.1860 - val_acc: 0.9460\n",
      "Epoch 26/100\n",
      "100/100 [==============================] - 23s 228ms/step - loss: 0.0651 - acc: 0.9780 - val_loss: 0.2884 - val_acc: 0.9270\n",
      "Epoch 27/100\n",
      "100/100 [==============================] - 23s 227ms/step - loss: 0.0591 - acc: 0.9770 - val_loss: 0.2096 - val_acc: 0.9390\n",
      "Epoch 28/100\n",
      "100/100 [==============================] - 23s 228ms/step - loss: 0.0572 - acc: 0.9770 - val_loss: 0.2225 - val_acc: 0.9390\n",
      "Epoch 29/100\n",
      "100/100 [==============================] - 23s 228ms/step - loss: 0.0529 - acc: 0.9840 - val_loss: 0.1894 - val_acc: 0.9420\n",
      "Epoch 30/100\n",
      "100/100 [==============================] - 23s 228ms/step - loss: 0.0460 - acc: 0.9855 - val_loss: 0.1911 - val_acc: 0.9390\n",
      "Epoch 31/100\n",
      "100/100 [==============================] - 23s 228ms/step - loss: 0.0559 - acc: 0.9790 - val_loss: 0.2021 - val_acc: 0.9400\n",
      "Epoch 32/100\n",
      "100/100 [==============================] - 23s 228ms/step - loss: 0.0429 - acc: 0.9860 - val_loss: 0.3149 - val_acc: 0.9320\n",
      "Epoch 33/100\n",
      "100/100 [==============================] - 23s 228ms/step - loss: 0.0488 - acc: 0.9815 - val_loss: 0.1857 - val_acc: 0.9490\n",
      "Epoch 34/100\n",
      "100/100 [==============================] - 23s 228ms/step - loss: 0.0387 - acc: 0.9870 - val_loss: 0.3252 - val_acc: 0.9150\n",
      "Epoch 35/100\n",
      "100/100 [==============================] - 23s 228ms/step - loss: 0.0467 - acc: 0.9840 - val_loss: 0.2509 - val_acc: 0.9350\n",
      "Epoch 36/100\n",
      "100/100 [==============================] - 23s 228ms/step - loss: 0.0454 - acc: 0.9795 - val_loss: 0.3508 - val_acc: 0.9250\n",
      "Epoch 37/100\n",
      "100/100 [==============================] - 23s 228ms/step - loss: 0.0408 - acc: 0.9860 - val_loss: 0.2430 - val_acc: 0.9350\n",
      "Epoch 38/100\n",
      "100/100 [==============================] - 23s 228ms/step - loss: 0.0336 - acc: 0.9875 - val_loss: 0.2434 - val_acc: 0.9470\n",
      "Epoch 39/100\n",
      "100/100 [==============================] - 23s 228ms/step - loss: 0.0475 - acc: 0.9860 - val_loss: 0.2524 - val_acc: 0.9360\n",
      "Epoch 40/100\n",
      "100/100 [==============================] - 23s 228ms/step - loss: 0.0508 - acc: 0.9800 - val_loss: 0.2347 - val_acc: 0.9410\n",
      "Epoch 41/100\n",
      "100/100 [==============================] - 23s 228ms/step - loss: 0.0394 - acc: 0.9885 - val_loss: 0.2931 - val_acc: 0.9320\n",
      "Epoch 42/100\n",
      "100/100 [==============================] - 23s 228ms/step - loss: 0.0278 - acc: 0.9885 - val_loss: 0.3282 - val_acc: 0.9290\n",
      "Epoch 43/100\n",
      "100/100 [==============================] - 23s 227ms/step - loss: 0.0402 - acc: 0.9910 - val_loss: 0.2188 - val_acc: 0.9410\n",
      "Epoch 44/100\n",
      "100/100 [==============================] - 23s 228ms/step - loss: 0.0426 - acc: 0.9870 - val_loss: 0.2263 - val_acc: 0.9420\n",
      "Epoch 45/100\n",
      "100/100 [==============================] - 23s 228ms/step - loss: 0.0334 - acc: 0.9895 - val_loss: 0.4654 - val_acc: 0.9100\n",
      "Epoch 46/100\n",
      "100/100 [==============================] - 23s 228ms/step - loss: 0.0412 - acc: 0.9875 - val_loss: 0.2100 - val_acc: 0.9470\n",
      "Epoch 47/100\n",
      "100/100 [==============================] - 23s 228ms/step - loss: 0.0445 - acc: 0.9870 - val_loss: 0.2182 - val_acc: 0.9400\n",
      "Epoch 48/100\n",
      "100/100 [==============================] - 23s 228ms/step - loss: 0.0316 - acc: 0.9885 - val_loss: 0.3545 - val_acc: 0.9310\n",
      "Epoch 49/100\n",
      "100/100 [==============================] - 23s 228ms/step - loss: 0.0351 - acc: 0.9890 - val_loss: 0.2824 - val_acc: 0.9420\n",
      "Epoch 50/100\n",
      "100/100 [==============================] - 23s 228ms/step - loss: 0.0282 - acc: 0.9915 - val_loss: 0.2217 - val_acc: 0.9490\n",
      "Epoch 51/100\n",
      "100/100 [==============================] - 23s 228ms/step - loss: 0.0314 - acc: 0.9905 - val_loss: 0.3236 - val_acc: 0.9340\n",
      "Epoch 52/100\n",
      "100/100 [==============================] - 23s 228ms/step - loss: 0.0304 - acc: 0.9875 - val_loss: 0.2628 - val_acc: 0.9440\n",
      "Epoch 53/100\n",
      "100/100 [==============================] - 23s 228ms/step - loss: 0.0331 - acc: 0.9915 - val_loss: 0.2443 - val_acc: 0.9420\n",
      "Epoch 54/100\n",
      "100/100 [==============================] - 23s 228ms/step - loss: 0.0290 - acc: 0.9910 - val_loss: 0.3185 - val_acc: 0.9420\n",
      "Epoch 55/100\n",
      "100/100 [==============================] - 23s 228ms/step - loss: 0.0415 - acc: 0.9870 - val_loss: 0.4836 - val_acc: 0.9150\n",
      "Epoch 56/100\n",
      "100/100 [==============================] - 23s 228ms/step - loss: 0.0394 - acc: 0.9900 - val_loss: 0.2390 - val_acc: 0.9420\n",
      "Epoch 57/100\n",
      "100/100 [==============================] - 23s 228ms/step - loss: 0.0303 - acc: 0.9910 - val_loss: 0.2373 - val_acc: 0.9440\n",
      "Epoch 58/100\n",
      "100/100 [==============================] - 23s 228ms/step - loss: 0.0337 - acc: 0.9885 - val_loss: 0.2565 - val_acc: 0.9440\n",
      "Epoch 59/100\n",
      "100/100 [==============================] - 23s 228ms/step - loss: 0.0296 - acc: 0.9895 - val_loss: 0.3144 - val_acc: 0.9330\n",
      "Epoch 60/100\n",
      "100/100 [==============================] - 23s 228ms/step - loss: 0.0257 - acc: 0.9935 - val_loss: 0.2991 - val_acc: 0.9440\n",
      "Epoch 61/100\n",
      "100/100 [==============================] - 23s 228ms/step - loss: 0.0321 - acc: 0.9905 - val_loss: 0.2895 - val_acc: 0.9420\n",
      "Epoch 62/100\n",
      "100/100 [==============================] - 23s 228ms/step - loss: 0.0274 - acc: 0.9900 - val_loss: 0.4022 - val_acc: 0.9370\n",
      "Epoch 63/100\n",
      "100/100 [==============================] - 23s 228ms/step - loss: 0.0365 - acc: 0.9860 - val_loss: 0.2803 - val_acc: 0.9450\n",
      "Epoch 64/100\n",
      "100/100 [==============================] - 23s 228ms/step - loss: 0.0223 - acc: 0.9925 - val_loss: 0.3246 - val_acc: 0.9360\n",
      "Epoch 65/100\n",
      "100/100 [==============================] - 23s 228ms/step - loss: 0.0328 - acc: 0.9910 - val_loss: 0.3693 - val_acc: 0.9330\n",
      "Epoch 66/100\n",
      "100/100 [==============================] - 23s 228ms/step - loss: 0.0175 - acc: 0.9935 - val_loss: 0.4962 - val_acc: 0.9160\n",
      "Epoch 67/100\n",
      "100/100 [==============================] - 23s 228ms/step - loss: 0.0304 - acc: 0.9920 - val_loss: 0.3819 - val_acc: 0.9390\n",
      "Epoch 68/100\n",
      "100/100 [==============================] - 23s 228ms/step - loss: 0.0193 - acc: 0.9925 - val_loss: 0.4678 - val_acc: 0.9250\n",
      "Epoch 69/100\n",
      "100/100 [==============================] - 23s 228ms/step - loss: 0.0305 - acc: 0.9890 - val_loss: 0.4146 - val_acc: 0.9370\n",
      "Epoch 70/100\n",
      "100/100 [==============================] - 23s 228ms/step - loss: 0.0256 - acc: 0.9940 - val_loss: 0.3025 - val_acc: 0.9450\n",
      "Epoch 71/100\n",
      "100/100 [==============================] - 23s 228ms/step - loss: 0.0205 - acc: 0.9935 - val_loss: 0.4915 - val_acc: 0.9230\n",
      "Epoch 72/100\n",
      "100/100 [==============================] - 23s 228ms/step - loss: 0.0186 - acc: 0.9930 - val_loss: 0.4430 - val_acc: 0.9270\n",
      "Epoch 73/100\n",
      "100/100 [==============================] - 23s 228ms/step - loss: 0.0240 - acc: 0.9915 - val_loss: 0.6280 - val_acc: 0.9070\n",
      "Epoch 74/100\n",
      "100/100 [==============================] - 23s 227ms/step - loss: 0.0218 - acc: 0.9925 - val_loss: 0.2686 - val_acc: 0.9450\n",
      "Epoch 75/100\n",
      "100/100 [==============================] - 23s 228ms/step - loss: 0.0230 - acc: 0.9910 - val_loss: 0.3177 - val_acc: 0.9390\n",
      "Epoch 76/100\n",
      "100/100 [==============================] - 23s 228ms/step - loss: 0.0128 - acc: 0.9960 - val_loss: 0.3478 - val_acc: 0.9430\n",
      "Epoch 77/100\n",
      "100/100 [==============================] - 23s 228ms/step - loss: 0.0266 - acc: 0.9940 - val_loss: 0.4109 - val_acc: 0.9420\n",
      "Epoch 78/100\n",
      "100/100 [==============================] - 23s 228ms/step - loss: 0.0234 - acc: 0.9935 - val_loss: 0.2634 - val_acc: 0.9460\n",
      "Epoch 79/100\n",
      "100/100 [==============================] - 23s 228ms/step - loss: 0.0276 - acc: 0.9920 - val_loss: 0.2989 - val_acc: 0.9410\n",
      "Epoch 80/100\n",
      "100/100 [==============================] - 23s 228ms/step - loss: 0.0253 - acc: 0.9940 - val_loss: 0.2971 - val_acc: 0.9420\n",
      "Epoch 81/100\n",
      "100/100 [==============================] - 23s 228ms/step - loss: 0.0274 - acc: 0.9900 - val_loss: 0.2713 - val_acc: 0.9500\n",
      "Epoch 82/100\n",
      "100/100 [==============================] - 23s 227ms/step - loss: 0.0151 - acc: 0.9960 - val_loss: 0.3461 - val_acc: 0.9460\n",
      "Epoch 83/100\n",
      "100/100 [==============================] - 23s 227ms/step - loss: 0.0184 - acc: 0.9930 - val_loss: 0.3774 - val_acc: 0.9400\n",
      "Epoch 84/100\n",
      "100/100 [==============================] - 23s 228ms/step - loss: 0.0338 - acc: 0.9915 - val_loss: 0.3225 - val_acc: 0.9420\n",
      "Epoch 85/100\n",
      "100/100 [==============================] - 23s 228ms/step - loss: 0.0213 - acc: 0.9950 - val_loss: 0.3637 - val_acc: 0.9400\n",
      "Epoch 86/100\n",
      "100/100 [==============================] - 23s 228ms/step - loss: 0.0304 - acc: 0.9920 - val_loss: 0.3107 - val_acc: 0.9390\n",
      "Epoch 87/100\n",
      "100/100 [==============================] - 23s 228ms/step - loss: 0.0112 - acc: 0.9970 - val_loss: 0.3752 - val_acc: 0.9370\n",
      "Epoch 88/100\n",
      "100/100 [==============================] - 23s 227ms/step - loss: 0.0130 - acc: 0.9955 - val_loss: 0.4220 - val_acc: 0.9400\n",
      "Epoch 89/100\n",
      "100/100 [==============================] - 23s 228ms/step - loss: 0.0321 - acc: 0.9895 - val_loss: 0.3526 - val_acc: 0.9370\n",
      "Epoch 90/100\n",
      "100/100 [==============================] - 23s 228ms/step - loss: 0.0239 - acc: 0.9915 - val_loss: 0.6102 - val_acc: 0.9160\n",
      "Epoch 91/100\n",
      "100/100 [==============================] - 23s 228ms/step - loss: 0.0272 - acc: 0.9930 - val_loss: 0.8590 - val_acc: 0.8900\n",
      "Epoch 92/100\n",
      "100/100 [==============================] - 23s 228ms/step - loss: 0.0144 - acc: 0.9950 - val_loss: 0.2911 - val_acc: 0.9450\n",
      "Epoch 93/100\n",
      "100/100 [==============================] - 23s 227ms/step - loss: 0.0287 - acc: 0.9940 - val_loss: 0.3253 - val_acc: 0.9440\n",
      "Epoch 94/100\n",
      "100/100 [==============================] - 23s 228ms/step - loss: 0.0130 - acc: 0.9965 - val_loss: 0.3460 - val_acc: 0.9410\n",
      "Epoch 95/100\n",
      "100/100 [==============================] - 23s 228ms/step - loss: 0.0236 - acc: 0.9920 - val_loss: 0.2855 - val_acc: 0.9530\n",
      "Epoch 96/100\n",
      "100/100 [==============================] - 23s 228ms/step - loss: 0.0145 - acc: 0.9945 - val_loss: 0.4348 - val_acc: 0.9340\n",
      "Epoch 97/100\n",
      "100/100 [==============================] - 23s 228ms/step - loss: 0.0292 - acc: 0.9905 - val_loss: 0.3904 - val_acc: 0.9490\n",
      "Epoch 98/100\n",
      "100/100 [==============================] - 23s 228ms/step - loss: 0.0239 - acc: 0.9940 - val_loss: 0.3120 - val_acc: 0.9420\n",
      "Epoch 99/100\n",
      "100/100 [==============================] - 23s 228ms/step - loss: 0.0152 - acc: 0.9970 - val_loss: 0.3180 - val_acc: 0.9500\n",
      "Epoch 100/100\n",
      "100/100 [==============================] - 23s 228ms/step - loss: 0.0214 - acc: 0.9945 - val_loss: 0.3620 - val_acc: 0.9470\n"
     ]
    }
   ],
   "source": [
    "model.compile(loss='binary_crossentropy',\n",
    "             optimizer = optimizers.RMSprop(lr=2e-5),\n",
    "             metrics = ['acc'])\n",
    "history = model.fit_generator(\n",
    "train_generator,\n",
    "steps_per_epoch = 100,\n",
    "epochs = 100,\n",
    "validation_data = validation_generator,\n",
    "validation_steps = 50)"
   ]
  },
  {
   "cell_type": "code",
   "execution_count": 23,
   "metadata": {},
   "outputs": [],
   "source": [
    "model.save('cats_dogs_mymodel_finetuned_1.h5')"
   ]
  },
  {
   "cell_type": "code",
   "execution_count": 24,
   "metadata": {},
   "outputs": [
    {
     "data": {
      "image/png": "[encoded data removed]",
      "text/plain": [
       "<Figure size 432x288 with 1 Axes>"
      ]
     },
     "metadata": {},
     "output_type": "display_data"
    },
    {
     "data": {
      "image/png": "[encoded data removed]",
      "text/plain": [
       "<Figure size 432x288 with 1 Axes>"
      ]
     },
     "metadata": {},
     "output_type": "display_data"
    }
   ],
   "source": [
    "acc = history.history['acc']\n",
    "val_acc = history.history['val_acc']\n",
    "loss = history.history['loss']\n",
    "val_loss = history.history['val_loss']\n",
    "\n",
    "epochs = range(len(acc))\n",
    "\n",
    "plt.plot(epochs, acc, 'bo', label='Training acc')\n",
    "plt.plot(epochs, val_acc, 'b', label='Validation acc')\n",
    "plt.title('Training and validation accuracy')\n",
    "plt.legend()\n",
    "\n",
    "plt.figure()\n",
    "\n",
    "plt.plot(epochs, loss, 'bo', label='Training loss')\n",
    "plt.plot(epochs, val_loss, 'b', label='Validation loss')\n",
    "plt.title('Training and validation loss')\n",
    "plt.legend()\n",
    "\n",
    "plt.show()"
   ]
  }
 ],
 "metadata": {
  "kernelspec": {
   "display_name": "conda_tensorflow_p36",
   "language": "python",
   "name": "conda_tensorflow_p36"
  },
  "language_info": {
   "codemirror_mode": {
    "name": "ipython",
    "version": 3
   },
   "file_extension": ".py",
   "mimetype": "text/x-python",
   "name": "python",
   "nbconvert_exporter": "python",
   "pygments_lexer": "ipython3",
   "version": "3.6.5"
  }
 },
 "nbformat": 4,
 "nbformat_minor": 2
}

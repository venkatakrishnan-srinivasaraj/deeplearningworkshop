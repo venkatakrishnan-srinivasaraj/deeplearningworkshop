{
 "cells": [
  {
   "cell_type": "code",
   "execution_count": 1,
   "metadata": {
    "scrolled": true
   },
   "outputs": [
    {
     "name": "stderr",
     "output_type": "stream",
     "text": [
      "Using TensorFlow backend.\n"
     ]
    }
   ],
   "source": [
    "import keras"
   ]
  },
  {
   "cell_type": "code",
   "execution_count": 2,
   "metadata": {},
   "outputs": [],
   "source": [
    "from keras import models\n",
    "from keras import layers"
   ]
  },
  {
   "cell_type": "code",
   "execution_count": 3,
   "metadata": {},
   "outputs": [],
   "source": [
    "model = models.Sequential()\n",
    "model.add(layers.Conv2D(32, (3,3), \n",
    "                        activation='relu', \n",
    "                        input_shape=(28, 28, 1)))\n",
    "model.add(layers.MaxPool2D((2,2)))\n",
    "model.add(layers.Conv2D(64, (3,3), activation='relu'))\n",
    "model.add(layers.MaxPool2D((2,2)))\n",
    "model.add(layers.Conv2D(64, (3,3), activation='relu'))"
   ]
  },
  {
   "cell_type": "code",
   "execution_count": 4,
   "metadata": {},
   "outputs": [
    {
     "name": "stdout",
     "output_type": "stream",
     "text": [
      "_________________________________________________________________\n",
      "Layer (type)                 Output Shape              Param #   \n",
      "=================================================================\n",
      "conv2d_1 (Conv2D)            (None, 26, 26, 32)        320       \n",
      "_________________________________________________________________\n",
      "max_pooling2d_1 (MaxPooling2 (None, 13, 13, 32)        0         \n",
      "_________________________________________________________________\n",
      "conv2d_2 (Conv2D)            (None, 11, 11, 64)        18496     \n",
      "_________________________________________________________________\n",
      "max_pooling2d_2 (MaxPooling2 (None, 5, 5, 64)          0         \n",
      "_________________________________________________________________\n",
      "conv2d_3 (Conv2D)            (None, 3, 3, 64)          36928     \n",
      "=================================================================\n",
      "Total params: 55,744\n",
      "Trainable params: 55,744\n",
      "Non-trainable params: 0\n",
      "_________________________________________________________________\n"
     ]
    }
   ],
   "source": [
    "model.summary()"
   ]
  },
  {
   "cell_type": "code",
   "execution_count": 5,
   "metadata": {},
   "outputs": [],
   "source": [
    "model.add(layers.Flatten())\n",
    "model.add(layers.Dense(64, activation='relu'))\n",
    "model.add(layers.Dense(10, activation='softmax'))"
   ]
  },
  {
   "cell_type": "code",
   "execution_count": 6,
   "metadata": {},
   "outputs": [
    {
     "name": "stdout",
     "output_type": "stream",
     "text": [
      "_________________________________________________________________\n",
      "Layer (type)                 Output Shape              Param #   \n",
      "=================================================================\n",
      "conv2d_1 (Conv2D)            (None, 26, 26, 32)        320       \n",
      "_________________________________________________________________\n",
      "max_pooling2d_1 (MaxPooling2 (None, 13, 13, 32)        0         \n",
      "_________________________________________________________________\n",
      "conv2d_2 (Conv2D)            (None, 11, 11, 64)        18496     \n",
      "_________________________________________________________________\n",
      "max_pooling2d_2 (MaxPooling2 (None, 5, 5, 64)          0         \n",
      "_________________________________________________________________\n",
      "conv2d_3 (Conv2D)            (None, 3, 3, 64)          36928     \n",
      "_________________________________________________________________\n",
      "flatten_1 (Flatten)          (None, 576)               0         \n",
      "_________________________________________________________________\n",
      "dense_1 (Dense)              (None, 64)                36928     \n",
      "_________________________________________________________________\n",
      "dense_2 (Dense)              (None, 10)                650       \n",
      "=================================================================\n",
      "Total params: 93,322\n",
      "Trainable params: 93,322\n",
      "Non-trainable params: 0\n",
      "_________________________________________________________________\n"
     ]
    }
   ],
   "source": [
    "model.summary()"
   ]
  },
  {
   "cell_type": "code",
   "execution_count": 7,
   "metadata": {},
   "outputs": [
    {
     "name": "stdout",
     "output_type": "stream",
     "text": [
      "Downloading data from https://s3.amazonaws.com/img-datasets/mnist.npz\n",
      "11493376/11490434 [==============================] - 0s 0us/step\n"
     ]
    }
   ],
   "source": [
    "from keras.datasets import mnist\n",
    "from keras.utils import to_categorical\n",
    "(train_images, train_labels), (test_images, test_labels) = mnist.load_data()"
   ]
  },
  {
   "cell_type": "code",
   "execution_count": 8,
   "metadata": {},
   "outputs": [],
   "source": [
    "train_images = train_images.reshape((60000, 28, 28, 1))\n",
    "train_images = train_images.astype('float32')/255\n",
    "test_images = test_images.reshape((10000, 28, 28, 1))\n",
    "test_images = test_images.astype('float32')/255\n",
    "train_labels = to_categorical(train_labels)\n",
    "test_labels = to_categorical(test_labels)"
   ]
  },
  {
   "cell_type": "code",
   "execution_count": 9,
   "metadata": {},
   "outputs": [],
   "source": [
    "model.compile(optimizer='adam',\n",
    "             loss = 'categorical_crossentropy',\n",
    "             metrics = ['accuracy'])"
   ]
  },
  {
   "cell_type": "code",
   "execution_count": null,
   "metadata": {},
   "outputs": [
    {
     "name": "stdout",
     "output_type": "stream",
     "text": [
      "Epoch 1/100\n",
      "60000/60000 [==============================] - 29s 476us/step - loss: 0.1968 - acc: 0.9407\n",
      "Epoch 2/100\n",
      "60000/60000 [==============================] - 7s 117us/step - loss: 0.0504 - acc: 0.9842\n",
      "Epoch 3/100\n",
      "60000/60000 [==============================] - 7s 118us/step - loss: 0.0358 - acc: 0.9887\n",
      "Epoch 4/100\n",
      "60000/60000 [==============================] - 7s 118us/step - loss: 0.0296 - acc: 0.9908\n",
      "Epoch 5/100\n",
      "60000/60000 [==============================] - 7s 118us/step - loss: 0.0233 - acc: 0.9923\n",
      "Epoch 6/100\n",
      "60000/60000 [==============================] - 7s 118us/step - loss: 0.0185 - acc: 0.9941\n",
      "Epoch 7/100\n",
      "60000/60000 [==============================] - 7s 118us/step - loss: 0.0152 - acc: 0.9950\n",
      "Epoch 8/100\n",
      "60000/60000 [==============================] - 7s 117us/step - loss: 0.0135 - acc: 0.9957\n",
      "Epoch 9/100\n",
      "60000/60000 [==============================] - 7s 118us/step - loss: 0.0126 - acc: 0.9956\n",
      "Epoch 10/100\n",
      "60000/60000 [==============================] - 7s 121us/step - loss: 0.0087 - acc: 0.9971\n",
      "Epoch 11/100\n",
      "60000/60000 [==============================] - 7s 118us/step - loss: 0.0097 - acc: 0.9968\n",
      "Epoch 12/100\n",
      "60000/60000 [==============================] - 7s 121us/step - loss: 0.0065 - acc: 0.9981\n",
      "Epoch 13/100\n",
      "60000/60000 [==============================] - 7s 120us/step - loss: 0.0070 - acc: 0.9978\n",
      "Epoch 14/100\n",
      "60000/60000 [==============================] - 7s 117us/step - loss: 0.0069 - acc: 0.9978\n",
      "Epoch 15/100\n",
      "60000/60000 [==============================] - 7s 117us/step - loss: 0.0062 - acc: 0.9979\n",
      "Epoch 16/100\n",
      "60000/60000 [==============================] - 7s 118us/step - loss: 0.0046 - acc: 0.9985\n",
      "Epoch 17/100\n",
      "60000/60000 [==============================] - 7s 119us/step - loss: 0.0061 - acc: 0.9979\n",
      "Epoch 18/100\n",
      "60000/60000 [==============================] - 7s 118us/step - loss: 0.0029 - acc: 0.9991\n",
      "Epoch 19/100\n",
      "60000/60000 [==============================] - 7s 118us/step - loss: 0.0061 - acc: 0.9984\n",
      "Epoch 20/100\n",
      "60000/60000 [==============================] - 7s 118us/step - loss: 0.0042 - acc: 0.9987\n",
      "Epoch 21/100\n",
      "60000/60000 [==============================] - 7s 118us/step - loss: 0.0054 - acc: 0.9982\n",
      "Epoch 22/100\n",
      "60000/60000 [==============================] - 7s 118us/step - loss: 0.0033 - acc: 0.9990\n",
      "Epoch 23/100\n",
      "60000/60000 [==============================] - 7s 118us/step - loss: 0.0060 - acc: 0.9980\n",
      "Epoch 24/100\n",
      "60000/60000 [==============================] - 7s 118us/step - loss: 0.0035 - acc: 0.9989\n",
      "Epoch 25/100\n",
      "60000/60000 [==============================] - 7s 118us/step - loss: 0.0027 - acc: 0.9990\n",
      "Epoch 26/100\n",
      "60000/60000 [==============================] - 7s 117us/step - loss: 0.0043 - acc: 0.9988\n",
      "Epoch 27/100\n",
      "60000/60000 [==============================] - 7s 117us/step - loss: 0.0037 - acc: 0.9988\n",
      "Epoch 28/100\n",
      "60000/60000 [==============================] - 7s 116us/step - loss: 0.0032 - acc: 0.9990\n",
      "Epoch 29/100\n",
      "60000/60000 [==============================] - 7s 116us/step - loss: 0.0047 - acc: 0.9986\n",
      "Epoch 30/100\n",
      "60000/60000 [==============================] - 7s 117us/step - loss: 0.0043 - acc: 0.9987\n",
      "Epoch 31/100\n",
      "60000/60000 [==============================] - 7s 118us/step - loss: 0.0023 - acc: 0.9993\n",
      "Epoch 32/100\n",
      "60000/60000 [==============================] - 7s 117us/step - loss: 0.0034 - acc: 0.9992\n",
      "Epoch 33/100\n",
      "60000/60000 [==============================] - 7s 115us/step - loss: 0.0045 - acc: 0.9989\n",
      "Epoch 34/100\n",
      "60000/60000 [==============================] - 7s 116us/step - loss: 0.0030 - acc: 0.9990\n",
      "Epoch 35/100\n",
      "60000/60000 [==============================] - 7s 119us/step - loss: 0.0028 - acc: 0.9992\n",
      "Epoch 36/100\n",
      "60000/60000 [==============================] - 7s 116us/step - loss: 0.0032 - acc: 0.9991\n",
      "Epoch 37/100\n",
      "60000/60000 [==============================] - 7s 116us/step - loss: 0.0037 - acc: 0.9989\n",
      "Epoch 38/100\n",
      "60000/60000 [==============================] - 7s 116us/step - loss: 0.0011 - acc: 0.9998\n",
      "Epoch 39/100\n",
      "60000/60000 [==============================] - 7s 115us/step - loss: 0.0046 - acc: 0.9989\n",
      "Epoch 40/100\n",
      "60000/60000 [==============================] - 7s 116us/step - loss: 0.0029 - acc: 0.9990\n",
      "Epoch 41/100\n",
      "60000/60000 [==============================] - 7s 116us/step - loss: 0.0025 - acc: 0.9992\n",
      "Epoch 42/100\n",
      "60000/60000 [==============================] - 7s 116us/step - loss: 0.0032 - acc: 0.9992\n",
      "Epoch 43/100\n",
      "60000/60000 [==============================] - 7s 116us/step - loss: 0.0040 - acc: 0.9991\n",
      "Epoch 44/100\n",
      "60000/60000 [==============================] - 7s 116us/step - loss: 0.0022 - acc: 0.9995\n",
      "Epoch 45/100\n",
      "60000/60000 [==============================] - 7s 116us/step - loss: 0.0032 - acc: 0.9992\n",
      "Epoch 46/100\n",
      "60000/60000 [==============================] - 7s 116us/step - loss: 0.0024 - acc: 0.9992\n",
      "Epoch 47/100\n",
      "60000/60000 [==============================] - 7s 116us/step - loss: 0.0028 - acc: 0.9991\n",
      "Epoch 48/100\n",
      "60000/60000 [==============================] - 7s 116us/step - loss: 0.0021 - acc: 0.9995\n",
      "Epoch 49/100\n",
      "60000/60000 [==============================] - 7s 116us/step - loss: 0.0037 - acc: 0.9991\n",
      "Epoch 50/100\n",
      "60000/60000 [==============================] - 7s 118us/step - loss: 0.0019 - acc: 0.9995\n",
      "Epoch 51/100\n",
      "60000/60000 [==============================] - 7s 118us/step - loss: 0.0033 - acc: 0.9993\n",
      "Epoch 52/100\n",
      "60000/60000 [==============================] - 7s 117us/step - loss: 0.0040 - acc: 0.9990\n",
      "Epoch 53/100\n",
      "60000/60000 [==============================] - 7s 116us/step - loss: 0.0015 - acc: 0.9995\n",
      "Epoch 54/100\n",
      "60000/60000 [==============================] - 7s 117us/step - loss: 0.0033 - acc: 0.9992\n",
      "Epoch 55/100\n",
      "60000/60000 [==============================] - 7s 116us/step - loss: 0.0021 - acc: 0.9996\n",
      "Epoch 56/100\n",
      "60000/60000 [==============================] - 7s 116us/step - loss: 0.0035 - acc: 0.9991\n",
      "Epoch 57/100\n",
      "60000/60000 [==============================] - 7s 116us/step - loss: 0.0044 - acc: 0.9990\n",
      "Epoch 58/100\n",
      "60000/60000 [==============================] - 7s 116us/step - loss: 0.0012 - acc: 0.9996\n",
      "Epoch 59/100\n",
      "60000/60000 [==============================] - 7s 116us/step - loss: 0.0012 - acc: 0.9997\n",
      "Epoch 60/100\n",
      "60000/60000 [==============================] - 7s 116us/step - loss: 0.0042 - acc: 0.9990\n",
      "Epoch 61/100\n",
      "60000/60000 [==============================] - 7s 119us/step - loss: 0.0035 - acc: 0.9992\n",
      "Epoch 62/100\n",
      "60000/60000 [==============================] - 7s 116us/step - loss: 0.0027 - acc: 0.9993\n",
      "Epoch 63/100\n",
      "60000/60000 [==============================] - 7s 115us/step - loss: 0.0024 - acc: 0.9994\n",
      "Epoch 64/100\n",
      "48000/60000 [=======================>......] - ETA: 1s - loss: 0.0020 - acc: 0.9996"
     ]
    }
   ],
   "source": [
    "model.fit(train_images, train_labels, epochs = 100, batch_size = 64)"
   ]
  },
  {
   "cell_type": "code",
   "execution_count": null,
   "metadata": {},
   "outputs": [],
   "source": [
    "test_loss, test_acc = network.evaluate(test_images, test_labels)"
   ]
  },
  {
   "cell_type": "code",
   "execution_count": null,
   "metadata": {},
   "outputs": [],
   "source": [
    "print('test_acc is :', test_acc)"
   ]
  }
 ],
 "metadata": {
  "kernelspec": {
   "display_name": "conda_tensorflow_p36",
   "language": "python",
   "name": "conda_tensorflow_p36"
  },
  "language_info": {
   "codemirror_mode": {
    "name": "ipython",
    "version": 3
   },
   "file_extension": ".py",
   "mimetype": "text/x-python",
   "name": "python",
   "nbconvert_exporter": "python",
   "pygments_lexer": "ipython3",
   "version": "3.6.5"
  }
 },
 "nbformat": 4,
 "nbformat_minor": 2
}

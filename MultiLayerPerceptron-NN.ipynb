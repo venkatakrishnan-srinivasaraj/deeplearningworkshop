{
 "cells": [
  {
   "cell_type": "code",
   "execution_count": 2,
   "metadata": {},
   "outputs": [
    {
     "name": "stdout",
     "output_type": "stream",
     "text": [
      "Extracting MNIST_data/train-images-idx3-ubyte.gz\n",
      "Extracting MNIST_data/train-labels-idx1-ubyte.gz\n",
      "Extracting MNIST_data/t10k-images-idx3-ubyte.gz\n",
      "Extracting MNIST_data/t10k-labels-idx1-ubyte.gz\n"
     ]
    }
   ],
   "source": [
    "import tensorflow as tf\n",
    "\n",
    "from tensorflow.examples.tutorials.mnist import input_data\n",
    "mnist = input_data.read_data_sets(\"MNIST_data\", one_hot=True)"
   ]
  },
  {
   "cell_type": "markdown",
   "metadata": {},
   "source": [
    "###  What are we going to do?\n",
    "\n",
    "We are going to pretend as if we have a sophisticated NN (without CNN brain)\n",
    "1. Hyperparameters\n",
    "2. Network Parameters\n",
    "3. TG Graph Input\n",
    "4. MLP model\n",
    "5. Weights, Biases, Cost, Optimizer\n",
    "6. Running and Evaluating the Accuracy"
   ]
  },
  {
   "cell_type": "code",
   "execution_count": 3,
   "metadata": {},
   "outputs": [],
   "source": [
    "# Parameters\n",
    "\n",
    "learning_rate   = 0.001\n",
    "training_epochs = 100\n",
    "batch_size      = 100"
   ]
  },
  {
   "cell_type": "code",
   "execution_count": 4,
   "metadata": {},
   "outputs": [],
   "source": [
    "# Network parameters\n",
    "\n",
    "n_hidden_1 = 256\n",
    "n_hidden_2 = 256\n",
    "n_input    = 784\n",
    "n_classes  = 10\n",
    "n_samples  = mnist.train.num_examples"
   ]
  },
  {
   "cell_type": "code",
   "execution_count": 5,
   "metadata": {},
   "outputs": [],
   "source": [
    "# TF Graph Input\n",
    "\n",
    "x = tf.placeholder(\"float\", [None, n_input])\n",
    "y = tf.placeholder(\"float\", [None, n_classes])"
   ]
  },
  {
   "cell_type": "code",
   "execution_count": 6,
   "metadata": {},
   "outputs": [],
   "source": [
    "# Multi Layer Perceptron Model\n",
    "\n",
    "def multilayer_perceptron(x, weights, biases):\n",
    "    '''\n",
    "    Add explanation\n",
    "    '''\n",
    "    \n",
    "    # First hidden layer with RELU activation function\n",
    "    layer_1 = tf.add(tf.matmul(x, weights['h1']), biases['b1'])\n",
    "    layer_1 = tf.nn.relu(layer_1)\n",
    "    \n",
    "    # Second layer\n",
    "    layer_2 = tf.add(tf.matmul(layer_1, weights['h2']), biases['b2'])\n",
    "    layer_2 = tf.nn.relu(layer_2)\n",
    "    \n",
    "    # Final output\n",
    "    out_layer = tf.add(tf.matmul(layer_2, weights['out']), biases['out'])\n",
    "    return out_layer"
   ]
  },
  {
   "cell_type": "code",
   "execution_count": 7,
   "metadata": {},
   "outputs": [],
   "source": [
    "# Weights and Biases\n",
    "\n",
    "weights = {\n",
    "    'h1' : tf.Variable(tf.random_normal([n_input, n_hidden_1])),\n",
    "    'h2' : tf.Variable(tf.random_normal([n_hidden_1, n_hidden_2])),\n",
    "    'out': tf.Variable(tf.random_normal([n_hidden_2, n_classes]))\n",
    "}\n",
    "\n",
    "biases = {\n",
    "    'b1' : tf.Variable(tf.random_normal([n_hidden_1])),\n",
    "    'b2' : tf.Variable(tf.random_normal([n_hidden_2])),\n",
    "    'out': tf.Variable(tf.random_normal([n_classes]))\n",
    "}"
   ]
  },
  {
   "cell_type": "code",
   "execution_count": 8,
   "metadata": {},
   "outputs": [],
   "source": [
    "# Prediction label\n",
    "\n",
    "pred = multilayer_perceptron(x, weights, biases)"
   ]
  },
  {
   "cell_type": "code",
   "execution_count": 9,
   "metadata": {},
   "outputs": [],
   "source": [
    "# Cost/Loss Optimizer Functions\n",
    "\n",
    "cost = tf.reduce_mean(tf.nn.softmax_cross_entropy_with_logits_v2(labels = y, logits = pred))\n",
    "optimizer = tf.train.RMSPropOptimizer(learning_rate=learning_rate).minimize(cost)"
   ]
  },
  {
   "cell_type": "code",
   "execution_count": 10,
   "metadata": {},
   "outputs": [],
   "source": [
    "# Initialize Global variables\n",
    "\n",
    "init = tf.global_variables_initializer()"
   ]
  },
  {
   "cell_type": "code",
   "execution_count": 11,
   "metadata": {},
   "outputs": [
    {
     "name": "stdout",
     "output_type": "stream",
     "text": [
      "Epoch: 1 cost=182.9786\n",
      "Epoch: 2 cost=35.4482\n",
      "Epoch: 3 cost=21.1344\n",
      "Epoch: 4 cost=14.5729\n",
      "Epoch: 5 cost=10.5822\n",
      "Epoch: 6 cost=7.9827\n",
      "Epoch: 7 cost=6.0125\n",
      "Epoch: 8 cost=4.6729\n",
      "Epoch: 9 cost=3.6355\n",
      "Epoch: 10 cost=2.8213\n",
      "Epoch: 11 cost=2.2242\n",
      "Epoch: 12 cost=1.7583\n",
      "Epoch: 13 cost=1.3500\n",
      "Epoch: 14 cost=1.0854\n",
      "Epoch: 15 cost=0.9008\n",
      "Epoch: 16 cost=0.7362\n",
      "Epoch: 17 cost=0.5899\n",
      "Epoch: 18 cost=0.5263\n",
      "Epoch: 19 cost=0.4656\n",
      "Epoch: 20 cost=0.4189\n",
      "Epoch: 21 cost=0.3571\n",
      "Epoch: 22 cost=0.3142\n",
      "Epoch: 23 cost=0.2778\n",
      "Epoch: 24 cost=0.2499\n",
      "Epoch: 25 cost=0.2327\n",
      "Epoch: 26 cost=0.2116\n",
      "Epoch: 27 cost=0.1729\n",
      "Epoch: 28 cost=0.2084\n",
      "Epoch: 29 cost=0.1473\n",
      "Epoch: 30 cost=0.1522\n",
      "Epoch: 31 cost=0.1668\n",
      "Epoch: 32 cost=0.1404\n",
      "Epoch: 33 cost=0.1100\n",
      "Epoch: 34 cost=0.1542\n",
      "Epoch: 35 cost=0.0938\n",
      "Epoch: 36 cost=0.1111\n",
      "Epoch: 37 cost=0.1201\n",
      "Epoch: 38 cost=0.1243\n",
      "Epoch: 39 cost=0.1118\n",
      "Epoch: 40 cost=0.0972\n",
      "Epoch: 41 cost=0.0940\n",
      "Epoch: 42 cost=0.1022\n",
      "Epoch: 43 cost=0.0801\n",
      "Epoch: 44 cost=0.0928\n",
      "Epoch: 45 cost=0.0914\n",
      "Epoch: 46 cost=0.0778\n",
      "Epoch: 47 cost=0.0901\n",
      "Epoch: 48 cost=0.1004\n",
      "Epoch: 49 cost=0.0621\n",
      "Epoch: 50 cost=0.0705\n",
      "Epoch: 51 cost=0.0621\n",
      "Epoch: 52 cost=0.0716\n",
      "Epoch: 53 cost=0.0883\n",
      "Epoch: 54 cost=0.0577\n",
      "Epoch: 55 cost=0.0664\n",
      "Epoch: 56 cost=0.0624\n",
      "Epoch: 57 cost=0.0611\n",
      "Epoch: 58 cost=0.0613\n",
      "Epoch: 59 cost=0.0469\n",
      "Epoch: 60 cost=0.0545\n",
      "Epoch: 61 cost=0.0425\n",
      "Epoch: 62 cost=0.0349\n",
      "Epoch: 63 cost=0.0502\n",
      "Epoch: 64 cost=0.0307\n",
      "Epoch: 65 cost=0.0505\n",
      "Epoch: 66 cost=0.0482\n",
      "Epoch: 67 cost=0.0492\n",
      "Epoch: 68 cost=0.0406\n",
      "Epoch: 69 cost=0.0608\n",
      "Epoch: 70 cost=0.0676\n",
      "Epoch: 71 cost=0.0755\n",
      "Epoch: 72 cost=0.0349\n",
      "Epoch: 73 cost=0.0542\n",
      "Epoch: 74 cost=0.0488\n",
      "Epoch: 75 cost=0.0516\n",
      "Epoch: 76 cost=0.0471\n",
      "Epoch: 77 cost=0.0367\n",
      "Epoch: 78 cost=0.0464\n",
      "Epoch: 79 cost=0.0512\n",
      "Epoch: 80 cost=0.0367\n",
      "Epoch: 81 cost=0.0460\n",
      "Epoch: 82 cost=0.0247\n",
      "Epoch: 83 cost=0.0363\n",
      "Epoch: 84 cost=0.0376\n",
      "Epoch: 85 cost=0.0393\n",
      "Epoch: 86 cost=0.0444\n",
      "Epoch: 87 cost=0.0424\n",
      "Epoch: 88 cost=0.0466\n",
      "Epoch: 89 cost=0.0285\n",
      "Epoch: 90 cost=0.0421\n",
      "Epoch: 91 cost=0.0350\n",
      "Epoch: 92 cost=0.0287\n",
      "Epoch: 93 cost=0.0382\n",
      "Epoch: 94 cost=0.0356\n",
      "Epoch: 95 cost=0.0494\n",
      "Epoch: 96 cost=0.0334\n",
      "Epoch: 97 cost=0.0429\n",
      "Epoch: 98 cost=0.0422\n",
      "Epoch: 99 cost=0.0337\n",
      "Epoch: 100 cost=0.0192\n",
      "Model has completed 100 Epochs of training\n"
     ]
    }
   ],
   "source": [
    "# Session - run and evaluate\n",
    "\n",
    "sess = tf.InteractiveSession()\n",
    "\n",
    "sess.run(init)\n",
    "\n",
    "for epoch in range(training_epochs):\n",
    "    avg_cost = 0.0\n",
    "    total_batch = int(n_samples/batch_size)\n",
    "    \n",
    "    # Loop over all batches \n",
    "    for i in range(total_batch):\n",
    "        # Grab next batch for training the data and labels \n",
    "        batch_x, batch_y = mnist.train.next_batch(batch_size)\n",
    "        # Feed into the dictionary in order to optimize and minimize loss\n",
    "        _, c = sess.run([optimizer, cost], feed_dict = {x:batch_x, y:batch_y})\n",
    "        \n",
    "        # Compute Average Loss\n",
    "        avg_cost += c / total_batch\n",
    "        \n",
    "    print(\"Epoch: {} cost={:.4f}\".format(epoch+1, avg_cost))\n",
    "    \n",
    "print(\"Model has completed {} Epochs of training\".format(training_epochs))"
   ]
  },
  {
   "cell_type": "code",
   "execution_count": 12,
   "metadata": {},
   "outputs": [],
   "source": [
    "# Model testing and evaluation\n",
    "\n",
    "correct_predictions = tf.equal(tf.argmax(pred, 1), tf.argmax(y, 1))"
   ]
  },
  {
   "cell_type": "code",
   "execution_count": 13,
   "metadata": {},
   "outputs": [
    {
     "name": "stdout",
     "output_type": "stream",
     "text": [
      "Tensor(\"strided_slice:0\", shape=(), dtype=bool)\n"
     ]
    }
   ],
   "source": [
    "print(correct_predictions[0])"
   ]
  },
  {
   "cell_type": "code",
   "execution_count": 14,
   "metadata": {},
   "outputs": [],
   "source": [
    "correct_predictions = tf.cast(correct_predictions, \"float\")"
   ]
  },
  {
   "cell_type": "code",
   "execution_count": 15,
   "metadata": {},
   "outputs": [],
   "source": [
    "accuracy = tf.reduce_mean(correct_predictions)"
   ]
  },
  {
   "cell_type": "code",
   "execution_count": 16,
   "metadata": {},
   "outputs": [
    {
     "data": {
      "text/plain": [
       "tensorflow.python.framework.ops.Tensor"
      ]
     },
     "execution_count": 16,
     "metadata": {},
     "output_type": "execute_result"
    }
   ],
   "source": [
    "type(accuracy)"
   ]
  },
  {
   "cell_type": "code",
   "execution_count": 17,
   "metadata": {},
   "outputs": [
    {
     "name": "stdout",
     "output_type": "stream",
     "text": [
      "Accuracy: 0.9593\n"
     ]
    }
   ],
   "source": [
    "print(\"Accuracy:\", accuracy.eval({x:mnist.test.images, y:mnist.test.labels}))"
   ]
  },
  {
   "cell_type": "code",
   "execution_count": null,
   "metadata": {},
   "outputs": [],
   "source": []
  }
 ],
 "metadata": {
  "kernelspec": {
   "display_name": "conda_tensorflow_p36",
   "language": "python",
   "name": "conda_tensorflow_p36"
  },
  "language_info": {
   "codemirror_mode": {
    "name": "ipython",
    "version": 3
   },
   "file_extension": ".py",
   "mimetype": "text/x-python",
   "name": "python",
   "nbconvert_exporter": "python",
   "pygments_lexer": "ipython3",
   "version": "3.6.5"
  }
 },
 "nbformat": 4,
 "nbformat_minor": 2
}

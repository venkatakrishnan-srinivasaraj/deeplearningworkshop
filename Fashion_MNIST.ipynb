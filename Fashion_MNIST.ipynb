{
 "cells": [
  {
   "cell_type": "code",
   "execution_count": 1,
   "metadata": {},
   "outputs": [
    {
     "name": "stdout",
     "output_type": "stream",
     "text": [
      "WARNING:tensorflow:From <ipython-input-1-37ff313aa086>:3: read_data_sets (from tensorflow.contrib.learn.python.learn.datasets.mnist) is deprecated and will be removed in a future version.\n",
      "Instructions for updating:\n",
      "Please use alternatives such as official/mnist/dataset.py from tensorflow/models.\n",
      "WARNING:tensorflow:From /home/ec2-user/anaconda3/envs/tensorflow_p36/lib/python3.6/site-packages/tensorflow/contrib/learn/python/learn/datasets/mnist.py:260: maybe_download (from tensorflow.contrib.learn.python.learn.datasets.base) is deprecated and will be removed in a future version.\n",
      "Instructions for updating:\n",
      "Please write your own downloading logic.\n",
      "WARNING:tensorflow:From /home/ec2-user/anaconda3/envs/tensorflow_p36/lib/python3.6/site-packages/tensorflow/contrib/learn/python/learn/datasets/mnist.py:262: extract_images (from tensorflow.contrib.learn.python.learn.datasets.mnist) is deprecated and will be removed in a future version.\n",
      "Instructions for updating:\n",
      "Please use tf.data to implement this functionality.\n",
      "Extracting data/fashion/train-images-idx3-ubyte.gz\n",
      "WARNING:tensorflow:From /home/ec2-user/anaconda3/envs/tensorflow_p36/lib/python3.6/site-packages/tensorflow/contrib/learn/python/learn/datasets/mnist.py:267: extract_labels (from tensorflow.contrib.learn.python.learn.datasets.mnist) is deprecated and will be removed in a future version.\n",
      "Instructions for updating:\n",
      "Please use tf.data to implement this functionality.\n",
      "Extracting data/fashion/train-labels-idx1-ubyte.gz\n",
      "WARNING:tensorflow:From /home/ec2-user/anaconda3/envs/tensorflow_p36/lib/python3.6/site-packages/tensorflow/contrib/learn/python/learn/datasets/mnist.py:110: dense_to_one_hot (from tensorflow.contrib.learn.python.learn.datasets.mnist) is deprecated and will be removed in a future version.\n",
      "Instructions for updating:\n",
      "Please use tf.one_hot on tensors.\n",
      "Extracting data/fashion/t10k-images-idx3-ubyte.gz\n",
      "Extracting data/fashion/t10k-labels-idx1-ubyte.gz\n",
      "WARNING:tensorflow:From /home/ec2-user/anaconda3/envs/tensorflow_p36/lib/python3.6/site-packages/tensorflow/contrib/learn/python/learn/datasets/mnist.py:290: DataSet.__init__ (from tensorflow.contrib.learn.python.learn.datasets.mnist) is deprecated and will be removed in a future version.\n",
      "Instructions for updating:\n",
      "Please use alternatives such as official/mnist/dataset.py from tensorflow/models.\n"
     ]
    }
   ],
   "source": [
    "import tensorflow as tf\n",
    "from tensorflow.examples.tutorials.mnist import input_data\n",
    "mnist = input_data.read_data_sets('data/fashion', source_url='http://fashion-mnist.s3-website.eu-central-1.amazonaws.com/', one_hot=True)"
   ]
  },
  {
   "cell_type": "markdown",
   "metadata": {},
   "source": [
    "**What are we going to do**\n",
    "\n",
    "We are going to pretend as if we have a sophisticated NN(without CNN brain)\n",
    "\n",
    "1. Parameters\n",
    "2. Network Parameters\n",
    "3. TF Graph Input\n",
    "4. MLP Model\n",
    "5. Weights,Biases, Cost, Optimizer\n",
    "6. Running and evaluating the accuracy"
   ]
  },
  {
   "cell_type": "code",
   "execution_count": 2,
   "metadata": {},
   "outputs": [],
   "source": [
    "# Parameters\n",
    "learning_rate = 0.001\n",
    "training_epochs = 100\n",
    "batch_size = 100"
   ]
  },
  {
   "cell_type": "code",
   "execution_count": 3,
   "metadata": {},
   "outputs": [],
   "source": [
    "# Network Parameters\n",
    "\n",
    "n_hidden_1 = 256\n",
    "n_hidden_2 = 256\n",
    "n_input = 784\n",
    "n_classes = 10\n",
    "n_samples = mnist.train.num_examples"
   ]
  },
  {
   "cell_type": "code",
   "execution_count": 4,
   "metadata": {},
   "outputs": [],
   "source": [
    "# TF Graph Input\n",
    "x = tf.placeholder(\"float\",[None, n_input])\n",
    "y = tf.placeholder(\"float\",[None, n_classes])"
   ]
  },
  {
   "cell_type": "code",
   "execution_count": 5,
   "metadata": {},
   "outputs": [],
   "source": [
    "# Mulit Layer Perceptron Model\n",
    "def multilayer_perceptron(x, weights, biases):\n",
    "    '''\n",
    "    Add explanation\n",
    "    '''\n",
    "    \n",
    "    # First hidden layer with RELU activation function\n",
    "    layer_1 = tf.add(tf.matmul(x,weights['h1']), biases['b1'])\n",
    "    layer_1 = tf.nn.relu(layer_1)\n",
    "    \n",
    "    # Second layer\n",
    "    layer_2 = tf.add(tf.matmul(layer_1,weights['h2']),biases['b2'])\n",
    "    layer_2 = tf.nn.relu(layer_2)\n",
    "    \n",
    "    # Final output\n",
    "    out_layer = tf.add(tf.matmul(layer_2,weights['out']),biases['out'])\n",
    "    return out_layer"
   ]
  },
  {
   "cell_type": "code",
   "execution_count": 6,
   "metadata": {},
   "outputs": [],
   "source": [
    "# weights and biases\n",
    "\n",
    "weights = {\n",
    "    'h1' : tf.Variable(tf.random_normal([n_input,n_hidden_1])),\n",
    "    'h2' : tf.Variable(tf.random_normal([n_hidden_1,n_hidden_2])),\n",
    "    'out' : tf.Variable(tf.random_normal([n_hidden_2,n_classes]))\n",
    "}"
   ]
  },
  {
   "cell_type": "code",
   "execution_count": 7,
   "metadata": {},
   "outputs": [],
   "source": [
    "biases = {\n",
    "    'b1' : tf.Variable(tf.random_normal([n_hidden_1])),\n",
    "    'b2' : tf.Variable(tf.random_normal([n_hidden_2])),\n",
    "    'out' : tf.Variable(tf.random_normal([n_classes]))\n",
    "}"
   ]
  },
  {
   "cell_type": "code",
   "execution_count": 8,
   "metadata": {},
   "outputs": [],
   "source": [
    "# Prediction label\n",
    "pred = multilayer_perceptron(x,weights,biases)"
   ]
  },
  {
   "cell_type": "code",
   "execution_count": 9,
   "metadata": {},
   "outputs": [],
   "source": [
    "# Cost/Loss and Optimizer Functions\n",
    "cost = tf.reduce_mean(tf.nn.softmax_cross_entropy_with_logits_v2(labels = y, logits=pred))\n",
    "optimizer = tf.train.RMSPropOptimizer(learning_rate=learning_rate).minimize(cost)"
   ]
  },
  {
   "cell_type": "code",
   "execution_count": 10,
   "metadata": {},
   "outputs": [],
   "source": [
    "# Initialize global variables\n",
    "init = tf.global_variables_initializer()"
   ]
  },
  {
   "cell_type": "code",
   "execution_count": 11,
   "metadata": {},
   "outputs": [
    {
     "name": "stdout",
     "output_type": "stream",
     "text": [
      "Epoch: 1 cost=153.3962\n",
      "Epoch: 2 cost=52.5612\n",
      "Epoch: 3 cost=37.3591\n",
      "Epoch: 4 cost=29.3189\n",
      "Epoch: 5 cost=23.9709\n",
      "Epoch: 6 cost=19.9796\n",
      "Epoch: 7 cost=17.1369\n",
      "Epoch: 8 cost=14.8111\n",
      "Epoch: 9 cost=13.0655\n",
      "Epoch: 10 cost=11.5483\n",
      "Epoch: 11 cost=10.2423\n",
      "Epoch: 12 cost=9.2149\n",
      "Epoch: 13 cost=8.3995\n",
      "Epoch: 14 cost=7.5622\n",
      "Epoch: 15 cost=6.9016\n",
      "Epoch: 16 cost=6.3722\n",
      "Epoch: 17 cost=5.8611\n",
      "Epoch: 18 cost=5.3413\n",
      "Epoch: 19 cost=5.0851\n",
      "Epoch: 20 cost=4.6685\n",
      "Epoch: 21 cost=4.3131\n",
      "Epoch: 22 cost=4.0650\n",
      "Epoch: 23 cost=3.7953\n",
      "Epoch: 24 cost=3.6078\n",
      "Epoch: 25 cost=3.4023\n",
      "Epoch: 26 cost=3.2643\n",
      "Epoch: 27 cost=3.0301\n",
      "Epoch: 28 cost=2.8901\n",
      "Epoch: 29 cost=2.7370\n",
      "Epoch: 30 cost=2.6199\n",
      "Epoch: 31 cost=2.4783\n",
      "Epoch: 32 cost=2.3443\n",
      "Epoch: 33 cost=2.3319\n",
      "Epoch: 34 cost=2.1762\n",
      "Epoch: 35 cost=2.0994\n",
      "Epoch: 36 cost=1.9902\n",
      "Epoch: 37 cost=1.9868\n",
      "Epoch: 38 cost=1.8630\n",
      "Epoch: 39 cost=1.8300\n",
      "Epoch: 40 cost=1.7469\n",
      "Epoch: 41 cost=1.6723\n",
      "Epoch: 42 cost=1.5961\n",
      "Epoch: 43 cost=1.5844\n",
      "Epoch: 44 cost=1.5191\n",
      "Epoch: 45 cost=1.4600\n",
      "Epoch: 46 cost=1.4180\n",
      "Epoch: 47 cost=1.4132\n",
      "Epoch: 48 cost=1.3136\n",
      "Epoch: 49 cost=1.2922\n",
      "Epoch: 50 cost=1.2441\n",
      "Epoch: 51 cost=1.2197\n",
      "Epoch: 52 cost=1.1889\n",
      "Epoch: 53 cost=1.1670\n",
      "Epoch: 54 cost=1.1194\n",
      "Epoch: 55 cost=1.1000\n",
      "Epoch: 56 cost=1.1018\n",
      "Epoch: 57 cost=1.0300\n",
      "Epoch: 58 cost=1.0041\n",
      "Epoch: 59 cost=1.0072\n",
      "Epoch: 60 cost=0.9673\n",
      "Epoch: 61 cost=0.9865\n",
      "Epoch: 62 cost=0.9255\n",
      "Epoch: 63 cost=0.9337\n",
      "Epoch: 64 cost=0.9204\n",
      "Epoch: 65 cost=0.8789\n",
      "Epoch: 66 cost=0.8439\n",
      "Epoch: 67 cost=0.8540\n",
      "Epoch: 68 cost=0.7828\n",
      "Epoch: 69 cost=0.7967\n",
      "Epoch: 70 cost=0.8096\n",
      "Epoch: 71 cost=0.7646\n",
      "Epoch: 72 cost=0.7577\n",
      "Epoch: 73 cost=0.7243\n",
      "Epoch: 74 cost=0.7105\n",
      "Epoch: 75 cost=0.7071\n",
      "Epoch: 76 cost=0.6981\n",
      "Epoch: 77 cost=0.7055\n",
      "Epoch: 78 cost=0.6897\n",
      "Epoch: 79 cost=0.6777\n",
      "Epoch: 80 cost=0.6565\n",
      "Epoch: 81 cost=0.6616\n",
      "Epoch: 82 cost=0.6432\n",
      "Epoch: 83 cost=0.6204\n",
      "Epoch: 84 cost=0.6396\n",
      "Epoch: 85 cost=0.5903\n",
      "Epoch: 86 cost=0.6236\n",
      "Epoch: 87 cost=0.5945\n",
      "Epoch: 88 cost=0.5815\n",
      "Epoch: 89 cost=0.5631\n",
      "Epoch: 90 cost=0.5659\n",
      "Epoch: 91 cost=0.5733\n",
      "Epoch: 92 cost=0.5373\n",
      "Epoch: 93 cost=0.5663\n",
      "Epoch: 94 cost=0.5190\n",
      "Epoch: 95 cost=0.5034\n",
      "Epoch: 96 cost=0.5150\n",
      "Epoch: 97 cost=0.5103\n",
      "Epoch: 98 cost=0.5160\n",
      "Epoch: 99 cost=0.5029\n",
      "Epoch: 100 cost=0.4957\n",
      "Model has completed 100 Epochs of training\n"
     ]
    }
   ],
   "source": [
    "# Session - run and evaluate\n",
    "\n",
    "sess = tf.InteractiveSession()\n",
    "\n",
    "sess.run(init)\n",
    "\n",
    "for epoch in range(training_epochs):\n",
    "    avg_cost = 0.0\n",
    "    total_batch = int(n_samples/batch_size)\n",
    "    \n",
    "    #loop over all batches\n",
    "    for i in range(total_batch):\n",
    "        # grab the next batch for training the data and labels\n",
    "        batch_x, batch_y = mnist.train.next_batch(batch_size)\n",
    "        # feed into the dictionary in order to optimize and minimize loss\n",
    "        _, c = sess.run([optimizer, cost], feed_dict={x:batch_x,y:batch_y})\n",
    "        \n",
    "        #compute avg loss\n",
    "        avg_cost += c / total_batch\n",
    "        \n",
    "    print(\"Epoch: {} cost={:.4f}\".format(epoch+1, avg_cost))\n",
    "    \n",
    "print(\"Model has completed {} Epochs of training\".format(training_epochs))"
   ]
  },
  {
   "cell_type": "code",
   "execution_count": 12,
   "metadata": {},
   "outputs": [],
   "source": [
    "# Model testing and evaluation\n",
    "\n",
    "correct_predictions = tf.equal(tf.argmax(pred, 1), tf.argmax(y, 1))"
   ]
  },
  {
   "cell_type": "code",
   "execution_count": 13,
   "metadata": {},
   "outputs": [
    {
     "name": "stdout",
     "output_type": "stream",
     "text": [
      "Tensor(\"strided_slice:0\", shape=(), dtype=bool)\n"
     ]
    }
   ],
   "source": [
    "print(correct_predictions[0])"
   ]
  },
  {
   "cell_type": "code",
   "execution_count": 14,
   "metadata": {},
   "outputs": [],
   "source": [
    "correct_predictions = tf.cast(correct_predictions, \"float\")"
   ]
  },
  {
   "cell_type": "code",
   "execution_count": 15,
   "metadata": {},
   "outputs": [],
   "source": [
    "accuracy = tf.reduce_mean(correct_predictions)"
   ]
  },
  {
   "cell_type": "code",
   "execution_count": 16,
   "metadata": {},
   "outputs": [
    {
     "data": {
      "text/plain": [
       "tensorflow.python.framework.ops.Tensor"
      ]
     },
     "execution_count": 16,
     "metadata": {},
     "output_type": "execute_result"
    }
   ],
   "source": [
    "type(accuracy)"
   ]
  },
  {
   "cell_type": "code",
   "execution_count": 17,
   "metadata": {},
   "outputs": [
    {
     "name": "stdout",
     "output_type": "stream",
     "text": [
      "Accuracy: 0.8441\n"
     ]
    }
   ],
   "source": [
    "print(\"Accuracy:\", accuracy.eval({x:mnist.test.images, y:mnist.test.labels}))"
   ]
  }
 ],
 "metadata": {
  "kernelspec": {
   "display_name": "conda_tensorflow_p36",
   "language": "python",
   "name": "conda_tensorflow_p36"
  },
  "language_info": {
   "codemirror_mode": {
    "name": "ipython",
    "version": 3
   },
   "file_extension": ".py",
   "mimetype": "text/x-python",
   "name": "python",
   "nbconvert_exporter": "python",
   "pygments_lexer": "ipython3",
   "version": "3.6.5"
  }
 },
 "nbformat": 4,
 "nbformat_minor": 2
}
